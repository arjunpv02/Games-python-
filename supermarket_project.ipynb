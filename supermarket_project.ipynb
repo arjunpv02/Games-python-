{
  "nbformat": 4,
  "nbformat_minor": 0,
  "metadata": {
    "colab": {
      "provenance": [],
      "toc_visible": true,
      "authorship_tag": "ABX9TyMOXwatLIEHDnheMfVoOlui",
      "include_colab_link": true
    },
    "kernelspec": {
      "name": "python3",
      "display_name": "Python 3"
    },
    "language_info": {
      "name": "python"
    }
  },
  "cells": [
    {
      "cell_type": "markdown",
      "metadata": {
        "id": "view-in-github",
        "colab_type": "text"
      },
      "source": [
        "<a href=\"https://colab.research.google.com/github/arjunpv02/Games-python-/blob/main/supermarket_project.ipynb\" target=\"_parent\"><img src=\"https://colab.research.google.com/assets/colab-badge.svg\" alt=\"Open In Colab\"/></a>"
      ]
    },
    {
      "cell_type": "code",
      "execution_count": 16,
      "metadata": {
        "colab": {
          "base_uri": "https://localhost:8080/"
        },
        "id": "xfMPNiMp_HjN",
        "outputId": "7bdb1991-f922-4841-ee06-bb4fde24bbb4"
      },
      "outputs": [
        {
          "output_type": "stream",
          "name": "stdout",
          "text": [
            "<class 'pandas.core.frame.DataFrame'>\n",
            "RangeIndex: 1500 entries, 0 to 1499\n",
            "Data columns (total 31 columns):\n",
            " #   Column                               Non-Null Count  Dtype  \n",
            "---  ------                               --------------  -----  \n",
            " 0   Review ID                            1500 non-null   object \n",
            " 1   Timestamp                            1500 non-null   object \n",
            " 2   Location                             1500 non-null   object \n",
            " 3   Product ID                           1500 non-null   object \n",
            " 4   Product Name                         1500 non-null   object \n",
            " 5   Review Text                          1500 non-null   object \n",
            " 6   Rating                               1500 non-null   float64\n",
            " 7   Sentiment Label                      1500 non-null   object \n",
            " 8   Aspect/Attribute                     1500 non-null   object \n",
            " 9   Aspect Sentiment                     1500 non-null   float64\n",
            " 10  Customer Demographics                1500 non-null   object \n",
            " 11  Feedback Type                        1500 non-null   object \n",
            " 12  Response                             1500 non-null   float64\n",
            " 13  Time Spent                           1500 non-null   float64\n",
            " 14  Repeatedly Spoken Product            1500 non-null   float64\n",
            " 15  Less Checked Item                    1500 non-null   float64\n",
            " 16  Trending Products                    1500 non-null   object \n",
            " 17  Customer Traffic                     1500 non-null   int64  \n",
            " 18  Purchase Intent                      1500 non-null   float64\n",
            " 19  Promotions                           1500 non-null   object \n",
            " 20  Competition Analysis                 1500 non-null   float64\n",
            " 21  Recommendations                      1500 non-null   float64\n",
            " 22  Overall Satisfaction                 1500 non-null   float64\n",
            " 23  Timespend Looking Ads                1500 non-null   float64\n",
            " 24  Extra Timespend Competitors          1500 non-null   float64\n",
            " 25  Item Pickup Competitors              1500 non-null   float64\n",
            " 26  Sales Data (2 months)                1500 non-null   float64\n",
            " 27  Brand Rep (2 months)                 1500 non-null   float64\n",
            " 28  Customer Lifetime Value              1500 non-null   float64\n",
            " 29  Foot Traffic Density (in that area)  1500 non-null   float64\n",
            " 30  Packaging Rating                     1500 non-null   float64\n",
            "dtypes: float64(18), int64(1), object(12)\n",
            "memory usage: 363.4+ KB\n",
            "None\n"
          ]
        }
      ],
      "source": [
        "import numpy as np\n",
        "import pandas as pd\n",
        "rd = pd.read_csv(\"/your_dataset4.csv\")\n",
        "#print(rd.head())\n",
        "print(rd.info())"
      ]
    },
    {
      "cell_type": "code",
      "source": [
        "from google.colab import drive\n",
        "drive.mount('/content/drive')"
      ],
      "metadata": {
        "id": "g-fzDiFm85BR",
        "colab": {
          "base_uri": "https://localhost:8080/",
          "height": 321
        },
        "outputId": "ef3e5525-a494-44f9-bbac-fbae5db500bf"
      },
      "execution_count": 5,
      "outputs": [
        {
          "output_type": "error",
          "ename": "MessageError",
          "evalue": "Error: credential propagation was unsuccessful",
          "traceback": [
            "\u001b[0;31m---------------------------------------------------------------------------\u001b[0m",
            "\u001b[0;31mMessageError\u001b[0m                              Traceback (most recent call last)",
            "\u001b[0;32m<ipython-input-5-d5df0069828e>\u001b[0m in \u001b[0;36m<cell line: 2>\u001b[0;34m()\u001b[0m\n\u001b[1;32m      1\u001b[0m \u001b[0;32mfrom\u001b[0m \u001b[0mgoogle\u001b[0m\u001b[0;34m.\u001b[0m\u001b[0mcolab\u001b[0m \u001b[0;32mimport\u001b[0m \u001b[0mdrive\u001b[0m\u001b[0;34m\u001b[0m\u001b[0;34m\u001b[0m\u001b[0m\n\u001b[0;32m----> 2\u001b[0;31m \u001b[0mdrive\u001b[0m\u001b[0;34m.\u001b[0m\u001b[0mmount\u001b[0m\u001b[0;34m(\u001b[0m\u001b[0;34m'/content/drive'\u001b[0m\u001b[0;34m)\u001b[0m\u001b[0;34m\u001b[0m\u001b[0;34m\u001b[0m\u001b[0m\n\u001b[0m",
            "\u001b[0;32m/usr/local/lib/python3.10/dist-packages/google/colab/drive.py\u001b[0m in \u001b[0;36mmount\u001b[0;34m(mountpoint, force_remount, timeout_ms, readonly)\u001b[0m\n\u001b[1;32m     98\u001b[0m \u001b[0;32mdef\u001b[0m \u001b[0mmount\u001b[0m\u001b[0;34m(\u001b[0m\u001b[0mmountpoint\u001b[0m\u001b[0;34m,\u001b[0m \u001b[0mforce_remount\u001b[0m\u001b[0;34m=\u001b[0m\u001b[0;32mFalse\u001b[0m\u001b[0;34m,\u001b[0m \u001b[0mtimeout_ms\u001b[0m\u001b[0;34m=\u001b[0m\u001b[0;36m120000\u001b[0m\u001b[0;34m,\u001b[0m \u001b[0mreadonly\u001b[0m\u001b[0;34m=\u001b[0m\u001b[0;32mFalse\u001b[0m\u001b[0;34m)\u001b[0m\u001b[0;34m:\u001b[0m\u001b[0;34m\u001b[0m\u001b[0;34m\u001b[0m\u001b[0m\n\u001b[1;32m     99\u001b[0m   \u001b[0;34m\"\"\"Mount your Google Drive at the specified mountpoint path.\"\"\"\u001b[0m\u001b[0;34m\u001b[0m\u001b[0;34m\u001b[0m\u001b[0m\n\u001b[0;32m--> 100\u001b[0;31m   return _mount(\n\u001b[0m\u001b[1;32m    101\u001b[0m       \u001b[0mmountpoint\u001b[0m\u001b[0;34m,\u001b[0m\u001b[0;34m\u001b[0m\u001b[0;34m\u001b[0m\u001b[0m\n\u001b[1;32m    102\u001b[0m       \u001b[0mforce_remount\u001b[0m\u001b[0;34m=\u001b[0m\u001b[0mforce_remount\u001b[0m\u001b[0;34m,\u001b[0m\u001b[0;34m\u001b[0m\u001b[0;34m\u001b[0m\u001b[0m\n",
            "\u001b[0;32m/usr/local/lib/python3.10/dist-packages/google/colab/drive.py\u001b[0m in \u001b[0;36m_mount\u001b[0;34m(mountpoint, force_remount, timeout_ms, ephemeral, readonly)\u001b[0m\n\u001b[1;32m    131\u001b[0m   )\n\u001b[1;32m    132\u001b[0m   \u001b[0;32mif\u001b[0m \u001b[0mephemeral\u001b[0m\u001b[0;34m:\u001b[0m\u001b[0;34m\u001b[0m\u001b[0;34m\u001b[0m\u001b[0m\n\u001b[0;32m--> 133\u001b[0;31m     _message.blocking_request(\n\u001b[0m\u001b[1;32m    134\u001b[0m         \u001b[0;34m'request_auth'\u001b[0m\u001b[0;34m,\u001b[0m\u001b[0;34m\u001b[0m\u001b[0;34m\u001b[0m\u001b[0m\n\u001b[1;32m    135\u001b[0m         \u001b[0mrequest\u001b[0m\u001b[0;34m=\u001b[0m\u001b[0;34m{\u001b[0m\u001b[0;34m'authType'\u001b[0m\u001b[0;34m:\u001b[0m \u001b[0;34m'dfs_ephemeral'\u001b[0m\u001b[0;34m}\u001b[0m\u001b[0;34m,\u001b[0m\u001b[0;34m\u001b[0m\u001b[0;34m\u001b[0m\u001b[0m\n",
            "\u001b[0;32m/usr/local/lib/python3.10/dist-packages/google/colab/_message.py\u001b[0m in \u001b[0;36mblocking_request\u001b[0;34m(request_type, request, timeout_sec, parent)\u001b[0m\n\u001b[1;32m    174\u001b[0m       \u001b[0mrequest_type\u001b[0m\u001b[0;34m,\u001b[0m \u001b[0mrequest\u001b[0m\u001b[0;34m,\u001b[0m \u001b[0mparent\u001b[0m\u001b[0;34m=\u001b[0m\u001b[0mparent\u001b[0m\u001b[0;34m,\u001b[0m \u001b[0mexpect_reply\u001b[0m\u001b[0;34m=\u001b[0m\u001b[0;32mTrue\u001b[0m\u001b[0;34m\u001b[0m\u001b[0;34m\u001b[0m\u001b[0m\n\u001b[1;32m    175\u001b[0m   )\n\u001b[0;32m--> 176\u001b[0;31m   \u001b[0;32mreturn\u001b[0m \u001b[0mread_reply_from_input\u001b[0m\u001b[0;34m(\u001b[0m\u001b[0mrequest_id\u001b[0m\u001b[0;34m,\u001b[0m \u001b[0mtimeout_sec\u001b[0m\u001b[0;34m)\u001b[0m\u001b[0;34m\u001b[0m\u001b[0;34m\u001b[0m\u001b[0m\n\u001b[0m",
            "\u001b[0;32m/usr/local/lib/python3.10/dist-packages/google/colab/_message.py\u001b[0m in \u001b[0;36mread_reply_from_input\u001b[0;34m(message_id, timeout_sec)\u001b[0m\n\u001b[1;32m    101\u001b[0m     ):\n\u001b[1;32m    102\u001b[0m       \u001b[0;32mif\u001b[0m \u001b[0;34m'error'\u001b[0m \u001b[0;32min\u001b[0m \u001b[0mreply\u001b[0m\u001b[0;34m:\u001b[0m\u001b[0;34m\u001b[0m\u001b[0;34m\u001b[0m\u001b[0m\n\u001b[0;32m--> 103\u001b[0;31m         \u001b[0;32mraise\u001b[0m \u001b[0mMessageError\u001b[0m\u001b[0;34m(\u001b[0m\u001b[0mreply\u001b[0m\u001b[0;34m[\u001b[0m\u001b[0;34m'error'\u001b[0m\u001b[0;34m]\u001b[0m\u001b[0;34m)\u001b[0m\u001b[0;34m\u001b[0m\u001b[0;34m\u001b[0m\u001b[0m\n\u001b[0m\u001b[1;32m    104\u001b[0m       \u001b[0;32mreturn\u001b[0m \u001b[0mreply\u001b[0m\u001b[0;34m.\u001b[0m\u001b[0mget\u001b[0m\u001b[0;34m(\u001b[0m\u001b[0;34m'data'\u001b[0m\u001b[0;34m,\u001b[0m \u001b[0;32mNone\u001b[0m\u001b[0;34m)\u001b[0m\u001b[0;34m\u001b[0m\u001b[0;34m\u001b[0m\u001b[0m\n\u001b[1;32m    105\u001b[0m \u001b[0;34m\u001b[0m\u001b[0m\n",
            "\u001b[0;31mMessageError\u001b[0m: Error: credential propagation was unsuccessful"
          ]
        }
      ]
    },
    {
      "cell_type": "code",
      "source": [
        "import os\n",
        "\n",
        "file_path = \"/content/your_dataset4.csv\"\n",
        "if not os.path.isfile(file_path):\n",
        "    print(\"File not found:\", file_path)\n",
        "\n",
        "from sklearn.preprocessing import MinMaxScaler\n",
        "from sklearn.preprocessing import StandardScaler\n",
        "\n",
        "scaler = StandardScaler()\n",
        "#print(rd.info())\n",
        "\n",
        "# Select relevant features\n",
        "features = rd[['Review ID', 'Product ID', 'Product Name', 'Rating', 'Aspect Sentiment', 'Response', 'Time Spent',\n",
        "               'Repeatedly Spoken Product', 'Less Checked Item','Purchase Intent',\n",
        "               'Competition Analysis', 'Recommendations', 'Overall Satisfaction', 'Timespend Looking Ads',\n",
        "               'Extra Timespend Competitors', 'Item Pickup Competitors', 'Sales Data (2 months)',\n",
        "               'Brand Rep (2 months)','Foot Traffic Density (in that area)',\n",
        "               'Packaging Rating']]\n",
        "\n",
        "# Display the selected features\n",
        "print(features.head())\n",
        "\n",
        "#Normalize the selected attributes\n",
        "scaler = MinMaxScaler()\n",
        "normalised_features = scaler.fit_transform(features.drop(columns=['Review ID', 'Product ID', 'Product Name']))\n",
        "\n",
        "#Assign weights to normalised attributes..\n",
        "# Define the features and their corresponding weights based on priorities\n",
        "weights = {\n",
        "    'Rating': 0.1,\n",
        "    'Aspect Sentiment': 0.1,\n",
        "    'Response': 0.1,\n",
        "    'Time Spent': 0.1,\n",
        "    'Repeatedly Spoken Product': 0.05,\n",
        "    'Less Checked Item': 0.05,\n",
        "    'Purchase Intent': 0.05,\n",
        "    'Competition Analysis': 0.05,\n",
        "    'Recommendations': 0.05,\n",
        "    'Overall Satisfaction': 0.05,\n",
        "    'Timespend Looking Ads': 0.05,\n",
        "    'Extra Timespend Competitors': 0.05,\n",
        "    'Item Pickup Competitors': 0.05,\n",
        "    'Sales Data (2 months)': 0.05,\n",
        "    'Brand Rep (2 months)': 0.05,\n",
        "    'Foot Traffic Density (in that area)': 0.05,\n",
        "    'Packaging Rating': 0.05\n",
        "}\n",
        "\n",
        "# Calculate the total weight\n",
        "total_weight = sum(weights.values())\n",
        "\n",
        "# Normalize the weights so that their sum is equal to 1\n",
        "normalized_weights = {feature: weight / total_weight for feature, weight in weights.items()}\n",
        "\n",
        "# Print the normalized weights for each feature\n",
        "for feature, weight in normalized_weights.items():\n",
        "    print(f\"{feature}: {weight}\")\n"
      ],
      "metadata": {
        "colab": {
          "base_uri": "https://localhost:8080/"
        },
        "id": "mfS07ZVkDIZm",
        "outputId": "036d4d6c-759e-4e27-a30f-8bf0ac16b406"
      },
      "execution_count": 17,
      "outputs": [
        {
          "output_type": "stream",
          "name": "stdout",
          "text": [
            "File not found: /content/your_dataset4.csv\n",
            "                              Review ID Product ID Product Name  Rating  \\\n",
            "0  61fa5f8e-0205-4e13-91bc-5c742673cae2     F14E8E          him     6.4   \n",
            "1  dc9f00e9-1a44-4762-a5a7-4e0f503508c8     7CD51D       detail     8.1   \n",
            "2  94e732ce-b73f-43ee-82d1-47d10cc8539a     6DBD68      forward     0.5   \n",
            "3  7c1f6a7e-1c25-4636-abac-d349ac295bee     0BDFE8     specific     5.6   \n",
            "4  7e086857-4991-43e6-8f39-275c217a0f83     67BD24        glass     4.0   \n",
            "\n",
            "   Aspect Sentiment  Response  Time Spent  Repeatedly Spoken Product  \\\n",
            "0               8.7       5.7         5.5                        8.7   \n",
            "1               8.0       9.9         8.0                        7.3   \n",
            "2               7.7       8.7         3.8                        4.5   \n",
            "3               8.4       8.2         8.1                        4.0   \n",
            "4              10.0       4.9         7.6                        8.6   \n",
            "\n",
            "   Less Checked Item  Purchase Intent  Competition Analysis  Recommendations  \\\n",
            "0                7.7              7.1                   5.1              6.1   \n",
            "1                7.3              8.8                   9.4              9.2   \n",
            "2                8.3              3.7                   2.1              2.7   \n",
            "3                0.7              8.8                   3.1              6.6   \n",
            "4                1.5              7.9                   4.2              0.6   \n",
            "\n",
            "   Overall Satisfaction  Timespend Looking Ads  Extra Timespend Competitors  \\\n",
            "0                   7.5                    5.1                          6.0   \n",
            "1                   8.6                    9.9                          8.1   \n",
            "2                   9.4                    6.5                          6.1   \n",
            "3                   4.0                    9.1                          4.6   \n",
            "4                   3.8                   10.0                          5.3   \n",
            "\n",
            "   Item Pickup Competitors  Sales Data (2 months)  Brand Rep (2 months)  \\\n",
            "0                      8.2                    5.9                   3.0   \n",
            "1                      8.7                    8.5                   6.6   \n",
            "2                      1.7                    7.6                   2.5   \n",
            "3                      2.6                    3.2                   6.1   \n",
            "4                      9.7                    8.7                   1.1   \n",
            "\n",
            "   Foot Traffic Density (in that area)  Packaging Rating  \n",
            "0                                 0.90               5.0  \n",
            "1                                 0.87               9.1  \n",
            "2                                 0.99               6.4  \n",
            "3                                 0.63               9.0  \n",
            "4                                 0.71               5.4  \n",
            "Rating: 0.0952380952380952\n",
            "Aspect Sentiment: 0.0952380952380952\n",
            "Response: 0.0952380952380952\n",
            "Time Spent: 0.0952380952380952\n",
            "Repeatedly Spoken Product: 0.0476190476190476\n",
            "Less Checked Item: 0.0476190476190476\n",
            "Purchase Intent: 0.0476190476190476\n",
            "Competition Analysis: 0.0476190476190476\n",
            "Recommendations: 0.0476190476190476\n",
            "Overall Satisfaction: 0.0476190476190476\n",
            "Timespend Looking Ads: 0.0476190476190476\n",
            "Extra Timespend Competitors: 0.0476190476190476\n",
            "Item Pickup Competitors: 0.0476190476190476\n",
            "Sales Data (2 months): 0.0476190476190476\n",
            "Brand Rep (2 months): 0.0476190476190476\n",
            "Foot Traffic Density (in that area): 0.0476190476190476\n",
            "Packaging Rating: 0.0476190476190476\n"
          ]
        }
      ]
    },
    {
      "cell_type": "code",
      "source": [
        "\n",
        "rd['item value'] = (normalised_features * np.array(list(normalized_weights.values()))).sum(axis=1)\n",
        "\n",
        "print(rd['item value'])\n",
        "\n",
        "\n"
      ],
      "metadata": {
        "colab": {
          "base_uri": "https://localhost:8080/"
        },
        "id": "8XprOyQuObN2",
        "outputId": "179e4efd-7d3b-42a8-ba1a-8cd382c67b17"
      },
      "execution_count": 18,
      "outputs": [
        {
          "output_type": "stream",
          "name": "stdout",
          "text": [
            "0       0.645565\n",
            "1       0.845281\n",
            "2       0.531727\n",
            "3       0.605065\n",
            "4       0.596864\n",
            "          ...   \n",
            "1495    0.540265\n",
            "1496    0.850298\n",
            "1497    0.831520\n",
            "1498    0.510346\n",
            "1499    0.689639\n",
            "Name: item value, Length: 1500, dtype: float64\n"
          ]
        }
      ]
    },
    {
      "cell_type": "code",
      "source": [
        "# prompt: help me to print rd values in descending order\n",
        "\n",
        "rd.sort_values(by=['item value'], inplace=True, ascending=False)\n",
        "print(rd)\n"
      ],
      "metadata": {
        "id": "HknUfSQKBwKg",
        "colab": {
          "base_uri": "https://localhost:8080/"
        },
        "outputId": "3bee6e3a-f990-4719-c52b-81d0f72b6ec1"
      },
      "execution_count": 19,
      "outputs": [
        {
          "output_type": "stream",
          "name": "stdout",
          "text": [
            "                                 Review ID         Timestamp         Location  \\\n",
            "874   17e543c0-026d-4381-82fa-663037ceeacb  22-11-2021 17:01  New Victoriaton   \n",
            "803   ff70ac9b-788e-4919-8d2b-6c5b4be82fc0  10-04-2021 05:29         Port Ian   \n",
            "59    dca2f18c-4a44-4fc3-82df-8f353adc290b  15-08-2023 09:01        Lindaland   \n",
            "971   e0f86df1-50d1-45cc-9ec7-3eeabc90c6d9  23-01-2020 15:13       Nicoleberg   \n",
            "924   8c884065-0bca-495b-9cc1-fbc9e25c486f  01-02-2021 01:11   South Louiston   \n",
            "...                                    ...               ...              ...   \n",
            "454   feaad8a1-848e-4b52-96a3-9ab43072baef  16-09-2022 01:39  Christopherstad   \n",
            "393   79dc3cae-d0fc-4edb-ac78-f2462663c40f  23-09-2022 09:52    New Jamesbury   \n",
            "1289  34b037cb-272b-464c-94cb-7803b50d3944  12-06-2021 11:58    West Johnside   \n",
            "951   d583bfc6-9b85-4bfb-9524-baf5f6d492ee  24-11-2022 22:42         Joelbury   \n",
            "1419  040e67b5-a6b5-4ff0-8242-445d787b62e5  21-11-2020 04:24        Kevinberg   \n",
            "\n",
            "     Product ID Product Name  \\\n",
            "874      4ED644   commercial   \n",
            "803      EDAA8E    education   \n",
            "59     5.90E+58     behavior   \n",
            "971    4.34E+12     question   \n",
            "924      1A238D    important   \n",
            "...         ...          ...   \n",
            "454      6032F0      herself   \n",
            "393      72B849         when   \n",
            "1289     33FD80        stock   \n",
            "951      584D76        least   \n",
            "1419     95D7C7  interesting   \n",
            "\n",
            "                                            Review Text  Rating  \\\n",
            "874           Lead market industry put president admit.     9.9   \n",
            "803                            Knowledge know save all.     8.7   \n",
            "59    Outside seven little cultural successful every...     9.8   \n",
            "971                            Assume type the despite.     9.2   \n",
            "924              Interest yet deep they remain because.     9.1   \n",
            "...                                                 ...     ...   \n",
            "454                                The month try think.     2.9   \n",
            "393                         Leg the similar try theory.     1.2   \n",
            "1289                   Ready return around learn seven.     2.2   \n",
            "951                    Attorney bar quality value name.     0.6   \n",
            "1419           Catch claim now almost brother pressure.     3.9   \n",
            "\n",
            "     Sentiment Label Aspect/Attribute  Aspect Sentiment  ...  \\\n",
            "874         Positive            woman               9.6  ...   \n",
            "803         Positive            watch               8.3  ...   \n",
            "59          Positive          prevent               8.8  ...   \n",
            "971         Positive           arrive               8.4  ...   \n",
            "924         Positive             name               9.8  ...   \n",
            "...              ...              ...               ...  ...   \n",
            "454         Negative            space               1.8  ...   \n",
            "393         Positive          produce               0.1  ...   \n",
            "1289        Negative             seat               3.1  ...   \n",
            "951         Negative           people               1.6  ...   \n",
            "1419        Positive             away               5.7  ...   \n",
            "\n",
            "     Overall Satisfaction Timespend Looking Ads  Extra Timespend Competitors  \\\n",
            "874                   8.9                   9.6                          9.9   \n",
            "803                  10.0                   9.7                          9.8   \n",
            "59                    8.8                   8.5                          9.9   \n",
            "971                   8.8                   7.5                          9.9   \n",
            "924                   8.0                   9.7                          8.5   \n",
            "...                   ...                   ...                          ...   \n",
            "454                   0.4                   2.7                          0.7   \n",
            "393                   1.2                   3.0                          9.7   \n",
            "1289                  1.1                   7.0                          4.2   \n",
            "951                   4.2                   5.8                          2.1   \n",
            "1419                  4.2                   5.2                          4.0   \n",
            "\n",
            "      Item Pickup Competitors  Sales Data (2 months)  Brand Rep (2 months)  \\\n",
            "874                       9.7                    7.8                   7.9   \n",
            "803                       8.5                    5.9                   9.7   \n",
            "59                        8.4                    8.3                   8.5   \n",
            "971                       9.5                    8.9                   8.3   \n",
            "924                       9.1                    9.1                   5.2   \n",
            "...                       ...                    ...                   ...   \n",
            "454                       1.0                    3.0                   6.6   \n",
            "393                       1.7                    9.8                   6.9   \n",
            "1289                      0.5                    1.3                   6.5   \n",
            "951                       8.6                    2.6                   1.3   \n",
            "1419                      2.7                    1.9                   7.2   \n",
            "\n",
            "     Customer Lifetime Value  Foot Traffic Density (in that area)  \\\n",
            "874                      2.6                                 0.84   \n",
            "803                      3.9                                 0.77   \n",
            "59                       9.8                                 0.73   \n",
            "971                      5.3                                 0.96   \n",
            "924                      8.1                                 0.81   \n",
            "...                      ...                                  ...   \n",
            "454                      7.4                                 0.45   \n",
            "393                      3.2                                 0.14   \n",
            "1289                     2.5                                 0.18   \n",
            "951                      2.6                                 0.47   \n",
            "1419                     6.0                                 0.11   \n",
            "\n",
            "      Packaging Rating item value  \n",
            "874                7.7   0.898754  \n",
            "803                9.8   0.890702  \n",
            "59                 8.9   0.878153  \n",
            "971                7.3   0.875354  \n",
            "924                9.9   0.873930  \n",
            "...                ...        ...  \n",
            "454                1.0   0.304545  \n",
            "393                9.5   0.304286  \n",
            "1289               2.9   0.298913  \n",
            "951                9.6   0.298773  \n",
            "1419               2.6   0.278610  \n",
            "\n",
            "[1500 rows x 32 columns]\n"
          ]
        }
      ]
    },
    {
      "cell_type": "code",
      "source": [
        "# prompt: from the above code help me to sort the item values\n",
        "\n",
        "sorted_products = rd.sort_values(by=['item value'], ascending=False, inplace=True)\n",
        "print(sorted_products)\n",
        "\n",
        "from sklearn.model_selection import train_test_split\n",
        "\n",
        "# Define features and target variable\n",
        "X = features.drop(columns=['Review ID', 'Product ID', 'Product Name'])  # Features\n",
        "y = rd['item value']  # Target variable\n",
        "\n",
        "# Split the data into training and testing sets (80% train, 20% test)\n",
        "X_train, X_test, y_train, y_test = train_test_split(X, y, test_size=0.2, random_state=42)\n",
        "\n",
        "# Display the shapes of the train and test sets\n",
        "print(\"X_train shape:\", X_train.shape)\n",
        "print(\"y_train shape:\", y_train.shape)\n",
        "print(\"X_test shape:\", X_test.shape)\n",
        "print(\"y_test shape:\", y_test.shape)"
      ],
      "metadata": {
        "colab": {
          "base_uri": "https://localhost:8080/"
        },
        "id": "nyRFuOOnTUJd",
        "outputId": "806ba57b-c9f5-4a14-f4ca-cea03eb2389c"
      },
      "execution_count": 20,
      "outputs": [
        {
          "output_type": "stream",
          "name": "stdout",
          "text": [
            "None\n",
            "X_train shape: (1200, 17)\n",
            "y_train shape: (1200,)\n",
            "X_test shape: (300, 17)\n",
            "y_test shape: (300,)\n"
          ]
        }
      ]
    },
    {
      "cell_type": "code",
      "source": [
        "from sklearn.ensemble import RandomForestRegressor\n",
        "from sklearn.model_selection import cross_val_score\n",
        "\n",
        "# Initialize the Random Forest regressor\n",
        "rf_regressor = RandomForestRegressor(random_state=42)\n",
        "\n",
        "# Perform cross-validation (5-fold cross-validation)\n",
        "scores = cross_val_score(rf_regressor, X_train, y_train, cv=5, scoring='neg_mean_squared_error')\n",
        "\n",
        "# Convert the scores to positive values and calculate the mean score\n",
        "rmse_scores = np.sqrt(-scores)\n",
        "mean_rmse = np.mean(rmse_scores)\n",
        "\n",
        "print(\"Mean RMSE (cross-validation):\", mean_rmse)\n"
      ],
      "metadata": {
        "colab": {
          "base_uri": "https://localhost:8080/"
        },
        "id": "Lx5-mMyTf7tN",
        "outputId": "1deb7af3-99da-4fd4-c67f-37f9f29418b2"
      },
      "execution_count": 21,
      "outputs": [
        {
          "output_type": "stream",
          "name": "stdout",
          "text": [
            "Mean RMSE (cross-validation): 0.15955880042265763\n"
          ]
        }
      ]
    },
    {
      "cell_type": "code",
      "source": [
        "# prompt: as like the above i need to test kn n efficiency too , so give me code\n",
        "\n",
        "from sklearn.neighbors import KNeighborsRegressor\n",
        "\n",
        "# Initialize the KNeighborsRegressor\n",
        "kn_regressor = KNeighborsRegressor(n_neighbors=9)\n",
        "\n",
        "# Perform cross-validation (5-fold cross-validation)\n",
        "scores = cross_val_score(kn_regressor, X_train, y_train, cv=5, scoring='neg_mean_squared_error')\n",
        "\n",
        "# Convert the scores to positive values and calculate the mean score\n",
        "rmse_scores = np.sqrt(-scores)\n",
        "mean_rmse = np.mean(rmse_scores)\n",
        "\n",
        "print(\"Mean RMSE (KNeighborsRegressor, k=9):\", mean_rmse)\n",
        "\n",
        "# You can repeat the above steps with different values of k to find the optimal k value for your dataset.\n"
      ],
      "metadata": {
        "colab": {
          "base_uri": "https://localhost:8080/"
        },
        "id": "Cgw--LfogCRr",
        "outputId": "de62077b-105b-427c-cf8f-6c807599a9b4"
      },
      "execution_count": 22,
      "outputs": [
        {
          "output_type": "stream",
          "name": "stdout",
          "text": [
            "Mean RMSE (KNeighborsRegressor, k=9): 0.16525805266375293\n"
          ]
        }
      ]
    },
    {
      "cell_type": "code",
      "source": [
        "# prompt: also do this for 3 more different algorithams, i need to check diiferent algorithms for best fit\n",
        "\n",
        "# 1. Gradient Boosting Regressor\n",
        "from sklearn.ensemble import GradientBoostingRegressor\n",
        "\n",
        "gb_regressor = GradientBoostingRegressor(random_state=42)\n",
        "\n",
        "# Perform cross-validation (5-fold cross-validation)\n",
        "scores = cross_val_score(gb_regressor, X_train, y_train, cv=5, scoring='neg_mean_squared_error')\n",
        "\n",
        "# Convert the scores to positive values and calculate the mean score\n",
        "rmse_scores = np.sqrt(-scores)\n",
        "mean_rmse = np.mean(rmse_scores)\n",
        "\n",
        "print(\"Mean RMSE (Gradient Boosting Regressor):\", mean_rmse)\n",
        "\n",
        "# 2. Support Vector Regressor\n",
        "from sklearn.svm import SVR\n",
        "\n",
        "svr_regressor = SVR(kernel='rbf')\n",
        "\n",
        "# Perform cross-validation (5-fold cross-validation)\n",
        "scores = cross_val_score(svr_regressor, X_train, y_train, cv=5, scoring='neg_mean_squared_error')\n",
        "\n",
        "# Convert the scores to positive values and calculate the mean score\n",
        "rmse_scores = np.sqrt(-scores)\n",
        "mean_rmse = np.mean(rmse_scores)\n",
        "\n",
        "print(\"Mean RMSE (Support Vector Regressor):\", mean_rmse)\n",
        "\n",
        "# 3. XGBoost Regressor\n",
        "from xgboost import XGBRegressor\n",
        "\n",
        "xgb_regressor = XGBRegressor(random_state=42)\n",
        "\n",
        "# Perform cross-validation (5-fold cross-validation)\n",
        "scores = cross_val_score(xgb_regressor, X_train, y_train, cv=5, scoring='neg_mean_squared_error')\n",
        "\n",
        "# Convert the scores to positive values and calculate the mean score\n",
        "rmse_scores = np.sqrt(-scores)\n",
        "mean_rmse = np.mean(rmse_scores)\n",
        "\n",
        "print(\"Mean RMSE (XGBoost Regressor):\", mean_rmse)\n"
      ],
      "metadata": {
        "colab": {
          "base_uri": "https://localhost:8080/"
        },
        "id": "bX_YB03wgh3E",
        "outputId": "c7898417-cca3-4b36-fdb1-551f9406c81f"
      },
      "execution_count": 23,
      "outputs": [
        {
          "output_type": "stream",
          "name": "stdout",
          "text": [
            "Mean RMSE (Gradient Boosting Regressor): 0.1612078733943744\n",
            "Mean RMSE (Support Vector Regressor): 0.17166926458926662\n",
            "Mean RMSE (XGBoost Regressor): 0.17424762504532654\n"
          ]
        }
      ]
    },
    {
      "cell_type": "code",
      "source": [
        "\n"
      ],
      "metadata": {
        "id": "k0SAzoiIgwF9"
      },
      "execution_count": null,
      "outputs": []
    },
    {
      "cell_type": "code",
      "source": [
        "# prompt: also check different algorithams too please\n",
        "\n",
        "# Import necessary libraries\n",
        "from sklearn.ensemble import RandomForestRegressor\n",
        "from sklearn.svm import SVR\n",
        "from sklearn.ensemble import GradientBoostingRegressor\n",
        "from xgboost import XGBRegressor\n",
        "from sklearn.metrics import mean_squared_error  # Import the required module\n",
        "\n",
        "# Initialize different regressors\n",
        "rf_regressor = RandomForestRegressor(random_state=42)\n",
        "svr_regressor = SVR(kernel='rbf')\n",
        "gb_regressor = GradientBoostingRegressor(random_state=42)\n",
        "xgb_regressor = XGBRegressor(random_state=42)\n",
        "\n",
        "# Define features and target variable\n",
        "X = features.drop(columns=['Review ID', 'Product ID', 'Product Name'])  # Features\n",
        "y = rd['item value']  # Target variable\n",
        "\n",
        "# Split the data into training and testing sets (80% train, 20% test)\n",
        "X_train, X_test, y_train, y_test = train_test_split(X, y, test_size=0.2, random_state=42)\n",
        "\n",
        "# Train and evaluate each regressor\n",
        "models = [\n",
        "    ('Random Forest', rf_regressor),\n",
        "    ('Support Vector Regression', svr_regressor),\n",
        "    ('Gradient Boosting', gb_regressor),\n",
        "    ('XGBoost', xgb_regressor)\n",
        "]\n",
        "\n",
        "for name, model in models:\n",
        "    model.fit(X_train, y_train)\n",
        "    y_pred = model.predict(X_test)\n",
        "    rmse = np.sqrt(mean_squared_error(y_test, y_pred))\n",
        "    print(f'{name} RMSE: {rmse}')"
      ],
      "metadata": {
        "colab": {
          "base_uri": "https://localhost:8080/"
        },
        "id": "Wo5X9m4uhZqG",
        "outputId": "330ad504-6cbb-416c-c3b4-e91b6634d7da"
      },
      "execution_count": 24,
      "outputs": [
        {
          "output_type": "stream",
          "name": "stdout",
          "text": [
            "Random Forest RMSE: 0.15827952650752866\n",
            "Support Vector Regression RMSE: 0.16904514916690094\n",
            "Gradient Boosting RMSE: 0.15884059115319094\n",
            "XGBoost RMSE: 0.16697484531735232\n"
          ]
        }
      ]
    },
    {
      "cell_type": "code",
      "source": [],
      "metadata": {
        "id": "vqjY_bsB0qGh"
      },
      "execution_count": null,
      "outputs": []
    },
    {
      "cell_type": "code",
      "source": [
        "# prompt: also check liner regression too\n",
        "\n",
        "from sklearn.linear_model import LinearRegression\n",
        "\n",
        "# Initialize the Linear Regression model\n",
        "linear_regression = LinearRegression()\n",
        "\n",
        "# Train the model\n",
        "linear_regression.fit(X_train, y_train)\n",
        "\n",
        "# Evaluate the model\n",
        "y_pred_linear = linear_regression.predict(X_test)\n",
        "rmse_linear = np.sqrt(mean_squared_error(y_test, y_pred_linear))\n",
        "\n",
        "# Print the results\n",
        "print(f'Linear Regression RMSE: {rmse_linear}')\n"
      ],
      "metadata": {
        "colab": {
          "base_uri": "https://localhost:8080/"
        },
        "id": "GLa3y1FO8RMB",
        "outputId": "4b8a6ab5-f8fa-48f3-85f3-e99262920d01"
      },
      "execution_count": 25,
      "outputs": [
        {
          "output_type": "stream",
          "name": "stdout",
          "text": [
            "Linear Regression RMSE: 0.1567179584324483\n"
          ]
        }
      ]
    },
    {
      "cell_type": "code",
      "source": [
        "# prompt: i fixed linear regression model , so categorise these different product using if and elif,,, and find the top top products having high 'item value'\n",
        "\n",
        "# Categorize products based on 'item value'\n",
        "def categorize_product(item_value):\n",
        "    if item_value >= 0.85:\n",
        "        return \"Excellent\"\n",
        "    elif item_value >= 0.74:\n",
        "        return \"Good\"\n",
        "    elif item_value >= 0.55:\n",
        "        return \"Average\"\n",
        "    elif item_value >= 0.2:\n",
        "        return \"Poor\"\n",
        "    else:\n",
        "        return \"Needs Improvement\"\n",
        "\n",
        "# Create a new column with categorized product values\n",
        "rd['Product Category'] = rd['item value'].apply(categorize_product)\n",
        "\n",
        "# Find the top N products with the highest 'item value'\n",
        "top_n = 50\n",
        "top_products = rd.nlargest(top_n, 'item value')\n",
        "\n",
        "# Print the top products\n",
        "print(top_products[['Product Name', 'item value', 'Product Category']])\n",
        "\n"
      ],
      "metadata": {
        "colab": {
          "base_uri": "https://localhost:8080/"
        },
        "id": "Ick3wMRP9doE",
        "outputId": "c310b4cc-d594-476f-cab2-c85451de3d4e"
      },
      "execution_count": 27,
      "outputs": [
        {
          "output_type": "stream",
          "name": "stdout",
          "text": [
            "     Product Name  item value Product Category\n",
            "874    commercial    0.898754        Excellent\n",
            "803     education    0.890702        Excellent\n",
            "59       behavior    0.878153        Excellent\n",
            "971      question    0.875354        Excellent\n",
            "924     important    0.873930        Excellent\n",
            "326      position    0.871626        Excellent\n",
            "1422     director    0.871592        Excellent\n",
            "895         throw    0.870159        Excellent\n",
            "1160        money    0.869577        Excellent\n",
            "370          what    0.866210        Excellent\n",
            "1243  interesting    0.865604        Excellent\n",
            "1241   Republican    0.864627        Excellent\n",
            "745          skin    0.864334        Excellent\n",
            "52           hard    0.863189        Excellent\n",
            "1187        trade    0.863179        Excellent\n",
            "1161       father    0.861563        Excellent\n",
            "696        notice    0.861275        Excellent\n",
            "473          side    0.861183        Excellent\n",
            "1130         ball    0.859538        Excellent\n",
            "941          fish    0.859317        Excellent\n",
            "795       protect    0.859221        Excellent\n",
            "172        anyone    0.858759        Excellent\n",
            "1114   television    0.858206        Excellent\n",
            "1427         head    0.857725        Excellent\n",
            "281        reveal    0.857648        Excellent\n",
            "708        effort    0.857566        Excellent\n",
            "731           him    0.857379        Excellent\n",
            "700     certainly    0.857152        Excellent\n",
            "468         stand    0.856580        Excellent\n",
            "567          list    0.855714        Excellent\n",
            "1492       almost    0.855493        Excellent\n",
            "439        people    0.855180        Excellent\n",
            "930        across    0.855075        Excellent\n",
            "183         agree    0.854921        Excellent\n",
            "1045       figure    0.854815        Excellent\n",
            "929          them    0.854632        Excellent\n",
            "1400         goal    0.854161        Excellent\n",
            "1417         open    0.852819        Excellent\n",
            "1228        piece    0.852646        Excellent\n",
            "598       billion    0.851698        Excellent\n",
            "1133     specific    0.851053        Excellent\n",
            "328          mind    0.850673        Excellent\n",
            "1068         lose    0.850664        Excellent\n",
            "275          back    0.850447        Excellent\n",
            "388    collection    0.850433        Excellent\n",
            "1496         hour    0.850298        Excellent\n",
            "1295        agent    0.850255        Excellent\n",
            "360         begin    0.849966             Good\n",
            "258         catch    0.849750             Good\n",
            "798          late    0.849399             Good\n"
          ]
        }
      ]
    },
    {
      "cell_type": "code",
      "source": [
        "# prompt: print all the products with necessary features having product category excellent and good in descending 'item  value'\n",
        "\n",
        "excellent_good_products = rd[rd['Product Category'].isin(['Excellent', 'Good'])]\n",
        "sorted_excellent_good_products = excellent_good_products.sort_values(by=['item value'], ascending=False)\n",
        "\n",
        "print(sorted_excellent_good_products[['Product Name', 'Rating', 'Aspect Sentiment', 'Response', 'Time Spent',\n",
        "               'Repeatedly Spoken Product', 'Less Checked Item','Purchase Intent',\n",
        "               'Competition Analysis', 'Recommendations', 'Overall Satisfaction', 'Timespend Looking Ads',\n",
        "               'Extra Timespend Competitors', 'Item Pickup Competitors', 'Sales Data (2 months)',\n",
        "               'Brand Rep (2 months)','Foot Traffic Density (in that area)',\n",
        "               'Packaging Rating', 'item value', 'Product Category']])\n"
      ],
      "metadata": {
        "colab": {
          "base_uri": "https://localhost:8080/"
        },
        "id": "5_FMvejm9-Aj",
        "outputId": "05b50596-c747-4000-a1da-cb701002195d"
      },
      "execution_count": 28,
      "outputs": [
        {
          "output_type": "stream",
          "name": "stdout",
          "text": [
            "     Product Name  Rating  Aspect Sentiment  Response  Time Spent  \\\n",
            "874    commercial     9.9               9.6       9.7         9.0   \n",
            "803     education     8.7               8.3       9.6         9.9   \n",
            "59       behavior     9.8               8.8       8.4         8.7   \n",
            "971      question     9.2               8.4       9.0         8.2   \n",
            "924     important     9.1               9.8       8.5         8.8   \n",
            "...           ...     ...               ...       ...         ...   \n",
            "774        summer     6.9              10.0       9.6         9.4   \n",
            "1356    condition     6.7               5.9       9.6         5.1   \n",
            "177    throughout     7.7               8.1       8.1         6.1   \n",
            "655          well     7.6               8.8       8.9         8.6   \n",
            "240     religious     8.0               9.8       6.7         6.9   \n",
            "\n",
            "      Repeatedly Spoken Product  Less Checked Item  Purchase Intent  \\\n",
            "874                         9.6                7.6              8.2   \n",
            "803                         8.3                9.2              7.6   \n",
            "59                          9.4                9.7              9.7   \n",
            "971                         8.1                9.9              8.3   \n",
            "924                         9.3                9.9              9.9   \n",
            "...                         ...                ...              ...   \n",
            "774                         5.2                5.6              5.4   \n",
            "1356                        8.5                8.9              8.8   \n",
            "177                         8.4                9.2              7.7   \n",
            "655                         7.8                5.3              9.7   \n",
            "240                         7.7                5.8              6.9   \n",
            "\n",
            "      Competition Analysis  Recommendations  Overall Satisfaction  \\\n",
            "874                    9.2              8.5                   8.9   \n",
            "803                    8.6             10.0                  10.0   \n",
            "59                     8.7              7.6                   8.8   \n",
            "971                    9.1              9.4                   8.8   \n",
            "924                    8.2              7.1                   8.0   \n",
            "...                    ...              ...                   ...   \n",
            "774                    8.4              5.3                   9.2   \n",
            "1356                   9.9              6.7                   6.7   \n",
            "177                    8.5              9.9                   8.9   \n",
            "655                    6.9              8.3                   7.2   \n",
            "240                    8.0              9.3                   8.8   \n",
            "\n",
            "      Timespend Looking Ads  Extra Timespend Competitors  \\\n",
            "874                     9.6                          9.9   \n",
            "803                     9.7                          9.8   \n",
            "59                      8.5                          9.9   \n",
            "971                     7.5                          9.9   \n",
            "924                     9.7                          8.5   \n",
            "...                     ...                          ...   \n",
            "774                     7.7                          8.9   \n",
            "1356                    9.5                          7.6   \n",
            "177                     8.2                          9.7   \n",
            "655                     8.6                          6.3   \n",
            "240                     8.5                          6.6   \n",
            "\n",
            "      Item Pickup Competitors  Sales Data (2 months)  Brand Rep (2 months)  \\\n",
            "874                       9.7                    7.8                   7.9   \n",
            "803                       8.5                    5.9                   9.7   \n",
            "59                        8.4                    8.3                   8.5   \n",
            "971                       9.5                    8.9                   8.3   \n",
            "924                       9.1                    9.1                   5.2   \n",
            "...                       ...                    ...                   ...   \n",
            "774                       9.0                    2.9                   3.8   \n",
            "1356                      8.6                    7.3                   3.0   \n",
            "177                       8.7                    2.4                   5.1   \n",
            "655                       5.7                    9.2                   1.8   \n",
            "240                       5.2                    4.7                   5.5   \n",
            "\n",
            "      Foot Traffic Density (in that area)  Packaging Rating  item value  \\\n",
            "874                                  0.84               7.7    0.898754   \n",
            "803                                  0.77               9.8    0.890702   \n",
            "59                                   0.73               8.9    0.878153   \n",
            "971                                  0.96               7.3    0.875354   \n",
            "924                                  0.81               9.9    0.873930   \n",
            "...                                   ...               ...         ...   \n",
            "774                                  0.85               5.6    0.741178   \n",
            "1356                                 0.72               9.6    0.740491   \n",
            "177                                  0.54               5.3    0.740293   \n",
            "655                                  0.70               5.2    0.740212   \n",
            "240                                  0.73               9.8    0.740212   \n",
            "\n",
            "     Product Category  \n",
            "874         Excellent  \n",
            "803         Excellent  \n",
            "59          Excellent  \n",
            "971         Excellent  \n",
            "924         Excellent  \n",
            "...               ...  \n",
            "774              Good  \n",
            "1356             Good  \n",
            "177              Good  \n",
            "655              Good  \n",
            "240              Good  \n",
            "\n",
            "[409 rows x 20 columns]\n"
          ]
        }
      ]
    },
    {
      "cell_type": "code",
      "source": [
        "# prompt: dont need this much features to print , update code in such a way that only print essentail 5 features only\n",
        "\n",
        "excellent_good_products = rd[rd['Product Category'].isin(['Excellent', 'Good'])]\n",
        "sorted_excellent_good_products = excellent_good_products.sort_values(by=['item value'], ascending=False)\n",
        "\n",
        "print(sorted_excellent_good_products[['Product Name', 'Rating', 'Aspect Sentiment', 'Response', 'item value', 'Product Category']])\n"
      ],
      "metadata": {
        "colab": {
          "base_uri": "https://localhost:8080/"
        },
        "id": "72oDIF6qGKNv",
        "outputId": "362dfd11-9385-4fae-8a67-2ff865542119"
      },
      "execution_count": 29,
      "outputs": [
        {
          "output_type": "stream",
          "name": "stdout",
          "text": [
            "     Product Name  Rating  Aspect Sentiment  Response  item value  \\\n",
            "874    commercial     9.9               9.6       9.7    0.898754   \n",
            "803     education     8.7               8.3       9.6    0.890702   \n",
            "59       behavior     9.8               8.8       8.4    0.878153   \n",
            "971      question     9.2               8.4       9.0    0.875354   \n",
            "924     important     9.1               9.8       8.5    0.873930   \n",
            "...           ...     ...               ...       ...         ...   \n",
            "774        summer     6.9              10.0       9.6    0.741178   \n",
            "1356    condition     6.7               5.9       9.6    0.740491   \n",
            "177    throughout     7.7               8.1       8.1    0.740293   \n",
            "655          well     7.6               8.8       8.9    0.740212   \n",
            "240     religious     8.0               9.8       6.7    0.740212   \n",
            "\n",
            "     Product Category  \n",
            "874         Excellent  \n",
            "803         Excellent  \n",
            "59          Excellent  \n",
            "971         Excellent  \n",
            "924         Excellent  \n",
            "...               ...  \n",
            "774              Good  \n",
            "1356             Good  \n",
            "177              Good  \n",
            "655              Good  \n",
            "240              Good  \n",
            "\n",
            "[409 rows x 6 columns]\n"
          ]
        }
      ]
    },
    {
      "cell_type": "code",
      "source": [
        "# prompt: create a piechart of product category\n",
        "\n",
        "import matplotlib.pyplot as plt\n",
        "\n",
        "# Extract data for the pie chart\n",
        "product_category_counts = (\n",
        "    rd['Product Category'].value_counts()\n",
        "    .sort_values(ascending=False)\n",
        "    .head(5)\n",
        ")\n",
        "labels = product_category_counts.index.to_list()\n",
        "sizes = product_category_counts.values.tolist()\n",
        "\n",
        "# Create the pie chart\n",
        "fig, ax = plt.subplots()\n",
        "ax.pie(sizes, labels=labels, autopct='%1.1f%%', startangle=90)\n",
        "ax.set_title('Product Category Distribution')\n",
        "plt.show()\n"
      ],
      "metadata": {
        "colab": {
          "base_uri": "https://localhost:8080/",
          "height": 428
        },
        "id": "xIZPEFra0srr",
        "outputId": "4cd05f01-edff-47ce-dac8-982314dc806b"
      },
      "execution_count": 30,
      "outputs": [
        {
          "output_type": "display_data",
          "data": {
            "text/plain": [
              "<Figure size 640x480 with 1 Axes>"
            ],
            "image/png": "[encoded data removed]"
          },
          "metadata": {}
        }
      ]
    },
    {
      "cell_type": "code",
      "source": [],
      "metadata": {
        "id": "wgBSRlz4098n"
      },
      "execution_count": null,
      "outputs": []
    },
    {
      "cell_type": "code",
      "source": [],
      "metadata": {
        "id": "UoUKOHOR7cU4"
      },
      "execution_count": null,
      "outputs": []
    },
    {
      "cell_type": "code",
      "source": [
        "# prompt: in the similar fashion i need to print all the products having poor product category , print it as like above..\n",
        "\n",
        "poor_products = rd[rd['Product Category'] == 'Poor']\n",
        "sorted_poor_products = poor_products.sort_values(by=['item value'], ascending=False)\n",
        "\n",
        "print(sorted_poor_products[['Product Name', 'Rating', 'Aspect Sentiment', 'Response', 'item value', 'Product Category']])\n"
      ],
      "metadata": {
        "colab": {
          "base_uri": "https://localhost:8080/"
        },
        "id": "_xM57bGqGzLi",
        "outputId": "ad57269d-3d5b-40a1-a6ff-be071c6f58b3"
      },
      "execution_count": 33,
      "outputs": [
        {
          "output_type": "stream",
          "name": "stdout",
          "text": [
            "     Product Name  Rating  Aspect Sentiment  Response  item value  \\\n",
            "196       evening     3.8               7.7       6.8    0.549057   \n",
            "457           eat     0.9               8.0       4.9    0.548980   \n",
            "1490         list     4.6               4.4       3.4    0.548413   \n",
            "487            by     5.2               2.7       9.1    0.548114   \n",
            "408           any     2.9               9.1       1.8    0.548100   \n",
            "...           ...     ...               ...       ...         ...   \n",
            "454       herself     2.9               1.8       6.1    0.304545   \n",
            "393          when     1.2               0.1       1.2    0.304286   \n",
            "1289        stock     2.2               3.1       2.0    0.298913   \n",
            "951         least     0.6               1.6       1.1    0.298773   \n",
            "1419  interesting     3.9               5.7       0.5    0.278610   \n",
            "\n",
            "     Product Category  \n",
            "196              Poor  \n",
            "457              Poor  \n",
            "1490             Poor  \n",
            "487              Poor  \n",
            "408              Poor  \n",
            "...               ...  \n",
            "454              Poor  \n",
            "393              Poor  \n",
            "1289             Poor  \n",
            "951              Poor  \n",
            "1419             Poor  \n",
            "\n",
            "[706 rows x 6 columns]\n"
          ]
        }
      ]
    },
    {
      "cell_type": "code",
      "source": [
        "# prompt: give me a frequency diagram  of product category\n",
        "\n",
        "import matplotlib.pyplot as plt\n",
        "\n",
        "# Extract data for the frequency diagram\n",
        "product_category_counts = rd['Product Category'].value_counts()\n",
        "\n",
        "# Create the frequency diagram\n",
        "plt.figure(figsize=(12, 6))\n",
        "product_category_counts.plot(kind='bar')\n",
        "\n",
        "# Add labels and title\n",
        "plt.xlabel('Product Category')\n",
        "plt.ylabel('Frequency')\n",
        "plt.title('Product Category Frequency Diagram')\n",
        "\n",
        "# Rotate x-axis labels for better readability\n",
        "plt.xticks(rotation=45)\n",
        "\n",
        "# Show the diagram\n",
        "plt.show()\n"
      ],
      "metadata": {
        "colab": {
          "base_uri": "https://localhost:8080/",
          "height": 472
        },
        "id": "ggwZR3LX14wg",
        "outputId": "2f777375-98f0-4666-d5a0-07fd99fc4c47"
      },
      "execution_count": 32,
      "outputs": [
        {
          "output_type": "display_data",
          "data": {
            "text/plain": [
              "<Figure size 640x480 with 1 Axes>"
            ],
            "image/png": "[encoded data removed]"
          },
          "metadata": {}
        }
      ]
    },
    {
      "cell_type": "code",
      "source": [
        "# prompt: give the top rated products graphs using other visualization tool rather than  matplot lib\n",
        "\n",
        "import plotly.express as px\n",
        "\n",
        "# Prepare data for the pie chart\n",
        "product_category_counts = (\n",
        "    rd['Product Category'].value_counts()\n",
        "    .sort_values(ascending=False)\n",
        "    .head(5)\n",
        ")\n",
        "labels = product_category_counts.index.to_list()\n",
        "sizes = product_category_counts.values.tolist()\n",
        "\n",
        "# Create the pie chart\n",
        "fig = px.pie(values=sizes, names=labels, title='Product Category Distribution')\n",
        "fig.show()\n",
        "\n",
        "# Prepare data for the frequency diagram\n",
        "product_category_counts = rd['Product Category'].value_counts()\n",
        "\n",
        "# Create the frequency diagram\n",
        "fig = px.bar(product_category_counts, x=product_category_counts.index, y=product_category_counts.values,\n",
        "             title='Product Category Frequency Diagram')\n",
        "fig.update_xaxes(tickangle=45)\n",
        "fig.show()\n",
        "\n",
        "# Prepare data for the scatter plot\n",
        "top_rated_products = rd.nlargest(10, 'Rating')\n",
        "\n",
        "# Create the scatter plot\n",
        "fig = px.scatter(top_rated_products, x='Product Name', y='Rating',\n",
        "                 title='Top Rated Products', color='Product Category')\n",
        "fig.update_layout(xaxis_tickangle=45)\n",
        "fig.show()\n"
      ],
      "metadata": {
        "colab": {
          "base_uri": "https://localhost:8080/",
          "height": 1000
        },
        "id": "SzRaljNy2IGg",
        "outputId": "b7e9a90b-8160-4cac-d93c-8a8e7843189c"
      },
      "execution_count": 34,
      "outputs": [
        {
          "output_type": "display_data",
          "data": {
            "text/html": [
              "<html>\n",
              "<head><meta charset=\"utf-8\" /></head>\n",
              "<body>\n",
              "    <div>            <script src=\"https://cdnjs.cloudflare.com/ajax/libs/mathjax/2.7.5/MathJax.js?config=TeX-AMS-MML_SVG\"></script><script type=\"text/javascript\">if (window.MathJax && window.MathJax.Hub && window.MathJax.Hub.Config) {window.MathJax.Hub.Config({SVG: {font: \"STIX-Web\"}});}</script>                <script type=\"text/javascript\">window.PlotlyConfig = {MathJaxConfig: 'local'};</script>\n",
              "        <script charset=\"utf-8\" src=\"https://cdn.plot.ly/plotly-2.24.1.min.js\"></script>                <div id=\"dfefc37e-acd1-48cf-a7dc-a79a72c7d79f\" class=\"plotly-graph-div\" style=\"height:525px; width:100%;\"></div>            <script type=\"text/javascript\">                                    window.PLOTLYENV=window.PLOTLYENV || {};                                    if (document.getElementById(\"dfefc37e-acd1-48cf-a7dc-a79a72c7d79f\")) {                    Plotly.newPlot(                        \"dfefc37e-acd1-48cf-a7dc-a79a72c7d79f\",                        [{\"domain\":{\"x\":[0.0,1.0],\"y\":[0.0,1.0]},\"hovertemplate\":\"label=%{label}\\u003cbr\\u003evalue=%{value}\\u003cextra\\u003e\\u003c\\u002fextra\\u003e\",\"labels\":[\"Poor\",\"Average\",\"Good\",\"Excellent\"],\"legendgroup\":\"\",\"name\":\"\",\"showlegend\":true,\"values\":[706,385,362,47],\"type\":\"pie\"}],                        {\"template\":{\"data\":{\"histogram2dcontour\":[{\"type\":\"histogram2dcontour\",\"colorbar\":{\"outlinewidth\":0,\"ticks\":\"\"},\"colorscale\":[[0.0,\"#0d0887\"],[0.1111111111111111,\"#46039f\"],[0.2222222222222222,\"#7201a8\"],[0.3333333333333333,\"#9c179e\"],[0.4444444444444444,\"#bd3786\"],[0.5555555555555556,\"#d8576b\"],[0.6666666666666666,\"#ed7953\"],[0.7777777777777778,\"#fb9f3a\"],[0.8888888888888888,\"#fdca26\"],[1.0,\"#f0f921\"]]}],\"choropleth\":[{\"type\":\"choropleth\",\"colorbar\":{\"outlinewidth\":0,\"ticks\":\"\"}}],\"histogram2d\":[{\"type\":\"histogram2d\",\"colorbar\":{\"outlinewidth\":0,\"ticks\":\"\"},\"colorscale\":[[0.0,\"#0d0887\"],[0.1111111111111111,\"#46039f\"],[0.2222222222222222,\"#7201a8\"],[0.3333333333333333,\"#9c179e\"],[0.4444444444444444,\"#bd3786\"],[0.5555555555555556,\"#d8576b\"],[0.6666666666666666,\"#ed7953\"],[0.7777777777777778,\"#fb9f3a\"],[0.8888888888888888,\"#fdca26\"],[1.0,\"#f0f921\"]]}],\"heatmap\":[{\"type\":\"heatmap\",\"colorbar\":{\"outlinewidth\":0,\"ticks\":\"\"},\"colorscale\":[[0.0,\"#0d0887\"],[0.1111111111111111,\"#46039f\"],[0.2222222222222222,\"#7201a8\"],[0.3333333333333333,\"#9c179e\"],[0.4444444444444444,\"#bd3786\"],[0.5555555555555556,\"#d8576b\"],[0.6666666666666666,\"#ed7953\"],[0.7777777777777778,\"#fb9f3a\"],[0.8888888888888888,\"#fdca26\"],[1.0,\"#f0f921\"]]}],\"heatmapgl\":[{\"type\":\"heatmapgl\",\"colorbar\":{\"outlinewidth\":0,\"ticks\":\"\"},\"colorscale\":[[0.0,\"#0d0887\"],[0.1111111111111111,\"#46039f\"],[0.2222222222222222,\"#7201a8\"],[0.3333333333333333,\"#9c179e\"],[0.4444444444444444,\"#bd3786\"],[0.5555555555555556,\"#d8576b\"],[0.6666666666666666,\"#ed7953\"],[0.7777777777777778,\"#fb9f3a\"],[0.8888888888888888,\"#fdca26\"],[1.0,\"#f0f921\"]]}],\"contourcarpet\":[{\"type\":\"contourcarpet\",\"colorbar\":{\"outlinewidth\":0,\"ticks\":\"\"}}],\"contour\":[{\"type\":\"contour\",\"colorbar\":{\"outlinewidth\":0,\"ticks\":\"\"},\"colorscale\":[[0.0,\"#0d0887\"],[0.1111111111111111,\"#46039f\"],[0.2222222222222222,\"#7201a8\"],[0.3333333333333333,\"#9c179e\"],[0.4444444444444444,\"#bd3786\"],[0.5555555555555556,\"#d8576b\"],[0.6666666666666666,\"#ed7953\"],[0.7777777777777778,\"#fb9f3a\"],[0.8888888888888888,\"#fdca26\"],[1.0,\"#f0f921\"]]}],\"surface\":[{\"type\":\"surface\",\"colorbar\":{\"outlinewidth\":0,\"ticks\":\"\"},\"colorscale\":[[0.0,\"#0d0887\"],[0.1111111111111111,\"#46039f\"],[0.2222222222222222,\"#7201a8\"],[0.3333333333333333,\"#9c179e\"],[0.4444444444444444,\"#bd3786\"],[0.5555555555555556,\"#d8576b\"],[0.6666666666666666,\"#ed7953\"],[0.7777777777777778,\"#fb9f3a\"],[0.8888888888888888,\"#fdca26\"],[1.0,\"#f0f921\"]]}],\"mesh3d\":[{\"type\":\"mesh3d\",\"colorbar\":{\"outlinewidth\":0,\"ticks\":\"\"}}],\"scatter\":[{\"fillpattern\":{\"fillmode\":\"overlay\",\"size\":10,\"solidity\":0.2},\"type\":\"scatter\"}],\"parcoords\":[{\"type\":\"parcoords\",\"line\":{\"colorbar\":{\"outlinewidth\":0,\"ticks\":\"\"}}}],\"scatterpolargl\":[{\"type\":\"scatterpolargl\",\"marker\":{\"colorbar\":{\"outlinewidth\":0,\"ticks\":\"\"}}}],\"bar\":[{\"error_x\":{\"color\":\"#2a3f5f\"},\"error_y\":{\"color\":\"#2a3f5f\"},\"marker\":{\"line\":{\"color\":\"#E5ECF6\",\"width\":0.5},\"pattern\":{\"fillmode\":\"overlay\",\"size\":10,\"solidity\":0.2}},\"type\":\"bar\"}],\"scattergeo\":[{\"type\":\"scattergeo\",\"marker\":{\"colorbar\":{\"outlinewidth\":0,\"ticks\":\"\"}}}],\"scatterpolar\":[{\"type\":\"scatterpolar\",\"marker\":{\"colorbar\":{\"outlinewidth\":0,\"ticks\":\"\"}}}],\"histogram\":[{\"marker\":{\"pattern\":{\"fillmode\":\"overlay\",\"size\":10,\"solidity\":0.2}},\"type\":\"histogram\"}],\"scattergl\":[{\"type\":\"scattergl\",\"marker\":{\"colorbar\":{\"outlinewidth\":0,\"ticks\":\"\"}}}],\"scatter3d\":[{\"type\":\"scatter3d\",\"line\":{\"colorbar\":{\"outlinewidth\":0,\"ticks\":\"\"}},\"marker\":{\"colorbar\":{\"outlinewidth\":0,\"ticks\":\"\"}}}],\"scattermapbox\":[{\"type\":\"scattermapbox\",\"marker\":{\"colorbar\":{\"outlinewidth\":0,\"ticks\":\"\"}}}],\"scatterternary\":[{\"type\":\"scatterternary\",\"marker\":{\"colorbar\":{\"outlinewidth\":0,\"ticks\":\"\"}}}],\"scattercarpet\":[{\"type\":\"scattercarpet\",\"marker\":{\"colorbar\":{\"outlinewidth\":0,\"ticks\":\"\"}}}],\"carpet\":[{\"aaxis\":{\"endlinecolor\":\"#2a3f5f\",\"gridcolor\":\"white\",\"linecolor\":\"white\",\"minorgridcolor\":\"white\",\"startlinecolor\":\"#2a3f5f\"},\"baxis\":{\"endlinecolor\":\"#2a3f5f\",\"gridcolor\":\"white\",\"linecolor\":\"white\",\"minorgridcolor\":\"white\",\"startlinecolor\":\"#2a3f5f\"},\"type\":\"carpet\"}],\"table\":[{\"cells\":{\"fill\":{\"color\":\"#EBF0F8\"},\"line\":{\"color\":\"white\"}},\"header\":{\"fill\":{\"color\":\"#C8D4E3\"},\"line\":{\"color\":\"white\"}},\"type\":\"table\"}],\"barpolar\":[{\"marker\":{\"line\":{\"color\":\"#E5ECF6\",\"width\":0.5},\"pattern\":{\"fillmode\":\"overlay\",\"size\":10,\"solidity\":0.2}},\"type\":\"barpolar\"}],\"pie\":[{\"automargin\":true,\"type\":\"pie\"}]},\"layout\":{\"autotypenumbers\":\"strict\",\"colorway\":[\"#636efa\",\"#EF553B\",\"#00cc96\",\"#ab63fa\",\"#FFA15A\",\"#19d3f3\",\"#FF6692\",\"#B6E880\",\"#FF97FF\",\"#FECB52\"],\"font\":{\"color\":\"#2a3f5f\"},\"hovermode\":\"closest\",\"hoverlabel\":{\"align\":\"left\"},\"paper_bgcolor\":\"white\",\"plot_bgcolor\":\"#E5ECF6\",\"polar\":{\"bgcolor\":\"#E5ECF6\",\"angularaxis\":{\"gridcolor\":\"white\",\"linecolor\":\"white\",\"ticks\":\"\"},\"radialaxis\":{\"gridcolor\":\"white\",\"linecolor\":\"white\",\"ticks\":\"\"}},\"ternary\":{\"bgcolor\":\"#E5ECF6\",\"aaxis\":{\"gridcolor\":\"white\",\"linecolor\":\"white\",\"ticks\":\"\"},\"baxis\":{\"gridcolor\":\"white\",\"linecolor\":\"white\",\"ticks\":\"\"},\"caxis\":{\"gridcolor\":\"white\",\"linecolor\":\"white\",\"ticks\":\"\"}},\"coloraxis\":{\"colorbar\":{\"outlinewidth\":0,\"ticks\":\"\"}},\"colorscale\":{\"sequential\":[[0.0,\"#0d0887\"],[0.1111111111111111,\"#46039f\"],[0.2222222222222222,\"#7201a8\"],[0.3333333333333333,\"#9c179e\"],[0.4444444444444444,\"#bd3786\"],[0.5555555555555556,\"#d8576b\"],[0.6666666666666666,\"#ed7953\"],[0.7777777777777778,\"#fb9f3a\"],[0.8888888888888888,\"#fdca26\"],[1.0,\"#f0f921\"]],\"sequentialminus\":[[0.0,\"#0d0887\"],[0.1111111111111111,\"#46039f\"],[0.2222222222222222,\"#7201a8\"],[0.3333333333333333,\"#9c179e\"],[0.4444444444444444,\"#bd3786\"],[0.5555555555555556,\"#d8576b\"],[0.6666666666666666,\"#ed7953\"],[0.7777777777777778,\"#fb9f3a\"],[0.8888888888888888,\"#fdca26\"],[1.0,\"#f0f921\"]],\"diverging\":[[0,\"#8e0152\"],[0.1,\"#c51b7d\"],[0.2,\"#de77ae\"],[0.3,\"#f1b6da\"],[0.4,\"#fde0ef\"],[0.5,\"#f7f7f7\"],[0.6,\"#e6f5d0\"],[0.7,\"#b8e186\"],[0.8,\"#7fbc41\"],[0.9,\"#4d9221\"],[1,\"#276419\"]]},\"xaxis\":{\"gridcolor\":\"white\",\"linecolor\":\"white\",\"ticks\":\"\",\"title\":{\"standoff\":15},\"zerolinecolor\":\"white\",\"automargin\":true,\"zerolinewidth\":2},\"yaxis\":{\"gridcolor\":\"white\",\"linecolor\":\"white\",\"ticks\":\"\",\"title\":{\"standoff\":15},\"zerolinecolor\":\"white\",\"automargin\":true,\"zerolinewidth\":2},\"scene\":{\"xaxis\":{\"backgroundcolor\":\"#E5ECF6\",\"gridcolor\":\"white\",\"linecolor\":\"white\",\"showbackground\":true,\"ticks\":\"\",\"zerolinecolor\":\"white\",\"gridwidth\":2},\"yaxis\":{\"backgroundcolor\":\"#E5ECF6\",\"gridcolor\":\"white\",\"linecolor\":\"white\",\"showbackground\":true,\"ticks\":\"\",\"zerolinecolor\":\"white\",\"gridwidth\":2},\"zaxis\":{\"backgroundcolor\":\"#E5ECF6\",\"gridcolor\":\"white\",\"linecolor\":\"white\",\"showbackground\":true,\"ticks\":\"\",\"zerolinecolor\":\"white\",\"gridwidth\":2}},\"shapedefaults\":{\"line\":{\"color\":\"#2a3f5f\"}},\"annotationdefaults\":{\"arrowcolor\":\"#2a3f5f\",\"arrowhead\":0,\"arrowwidth\":1},\"geo\":{\"bgcolor\":\"white\",\"landcolor\":\"#E5ECF6\",\"subunitcolor\":\"white\",\"showland\":true,\"showlakes\":true,\"lakecolor\":\"white\"},\"title\":{\"x\":0.05},\"mapbox\":{\"style\":\"light\"}}},\"legend\":{\"tracegroupgap\":0},\"title\":{\"text\":\"Product Category Distribution\"}},                        {\"responsive\": true}                    ).then(function(){\n",
              "                            \n",
              "var gd = document.getElementById('dfefc37e-acd1-48cf-a7dc-a79a72c7d79f');\n",
              "var x = new MutationObserver(function (mutations, observer) {{\n",
              "        var display = window.getComputedStyle(gd).display;\n",
              "        if (!display || display === 'none') {{\n",
              "            console.log([gd, 'removed!']);\n",
              "            Plotly.purge(gd);\n",
              "            observer.disconnect();\n",
              "        }}\n",
              "}});\n",
              "\n",
              "// Listen for the removal of the full notebook cells\n",
              "var notebookContainer = gd.closest('#notebook-container');\n",
              "if (notebookContainer) {{\n",
              "    x.observe(notebookContainer, {childList: true});\n",
              "}}\n",
              "\n",
              "// Listen for the clearing of the current output cell\n",
              "var outputEl = gd.closest('.output');\n",
              "if (outputEl) {{\n",
              "    x.observe(outputEl, {childList: true});\n",
              "}}\n",
              "\n",
              "                        })                };                            </script>        </div>\n",
              "</body>\n",
              "</html>"
            ]
          },
          "metadata": {}
        },
        {
          "output_type": "display_data",
          "data": {
            "text/html": [
              "<html>\n",
              "<head><meta charset=\"utf-8\" /></head>\n",
              "<body>\n",
              "    <div>            <script src=\"https://cdnjs.cloudflare.com/ajax/libs/mathjax/2.7.5/MathJax.js?config=TeX-AMS-MML_SVG\"></script><script type=\"text/javascript\">if (window.MathJax && window.MathJax.Hub && window.MathJax.Hub.Config) {window.MathJax.Hub.Config({SVG: {font: \"STIX-Web\"}});}</script>                <script type=\"text/javascript\">window.PlotlyConfig = {MathJaxConfig: 'local'};</script>\n",
              "        <script charset=\"utf-8\" src=\"https://cdn.plot.ly/plotly-2.24.1.min.js\"></script>                <div id=\"6fafa64c-20a9-428a-8d1e-03e7095208e0\" class=\"plotly-graph-div\" style=\"height:525px; width:100%;\"></div>            <script type=\"text/javascript\">                                    window.PLOTLYENV=window.PLOTLYENV || {};                                    if (document.getElementById(\"6fafa64c-20a9-428a-8d1e-03e7095208e0\")) {                    Plotly.newPlot(                        \"6fafa64c-20a9-428a-8d1e-03e7095208e0\",                        [{\"alignmentgroup\":\"True\",\"hovertemplate\":\"Product Category=%{x}\\u003cbr\\u003ey=%{y}\\u003cextra\\u003e\\u003c\\u002fextra\\u003e\",\"legendgroup\":\"\",\"marker\":{\"color\":\"#636efa\",\"pattern\":{\"shape\":\"\"}},\"name\":\"\",\"offsetgroup\":\"\",\"orientation\":\"v\",\"showlegend\":false,\"textposition\":\"auto\",\"x\":[\"Poor\",\"Average\",\"Good\",\"Excellent\"],\"xaxis\":\"x\",\"y\":[706,385,362,47],\"yaxis\":\"y\",\"type\":\"bar\"}],                        {\"template\":{\"data\":{\"histogram2dcontour\":[{\"type\":\"histogram2dcontour\",\"colorbar\":{\"outlinewidth\":0,\"ticks\":\"\"},\"colorscale\":[[0.0,\"#0d0887\"],[0.1111111111111111,\"#46039f\"],[0.2222222222222222,\"#7201a8\"],[0.3333333333333333,\"#9c179e\"],[0.4444444444444444,\"#bd3786\"],[0.5555555555555556,\"#d8576b\"],[0.6666666666666666,\"#ed7953\"],[0.7777777777777778,\"#fb9f3a\"],[0.8888888888888888,\"#fdca26\"],[1.0,\"#f0f921\"]]}],\"choropleth\":[{\"type\":\"choropleth\",\"colorbar\":{\"outlinewidth\":0,\"ticks\":\"\"}}],\"histogram2d\":[{\"type\":\"histogram2d\",\"colorbar\":{\"outlinewidth\":0,\"ticks\":\"\"},\"colorscale\":[[0.0,\"#0d0887\"],[0.1111111111111111,\"#46039f\"],[0.2222222222222222,\"#7201a8\"],[0.3333333333333333,\"#9c179e\"],[0.4444444444444444,\"#bd3786\"],[0.5555555555555556,\"#d8576b\"],[0.6666666666666666,\"#ed7953\"],[0.7777777777777778,\"#fb9f3a\"],[0.8888888888888888,\"#fdca26\"],[1.0,\"#f0f921\"]]}],\"heatmap\":[{\"type\":\"heatmap\",\"colorbar\":{\"outlinewidth\":0,\"ticks\":\"\"},\"colorscale\":[[0.0,\"#0d0887\"],[0.1111111111111111,\"#46039f\"],[0.2222222222222222,\"#7201a8\"],[0.3333333333333333,\"#9c179e\"],[0.4444444444444444,\"#bd3786\"],[0.5555555555555556,\"#d8576b\"],[0.6666666666666666,\"#ed7953\"],[0.7777777777777778,\"#fb9f3a\"],[0.8888888888888888,\"#fdca26\"],[1.0,\"#f0f921\"]]}],\"heatmapgl\":[{\"type\":\"heatmapgl\",\"colorbar\":{\"outlinewidth\":0,\"ticks\":\"\"},\"colorscale\":[[0.0,\"#0d0887\"],[0.1111111111111111,\"#46039f\"],[0.2222222222222222,\"#7201a8\"],[0.3333333333333333,\"#9c179e\"],[0.4444444444444444,\"#bd3786\"],[0.5555555555555556,\"#d8576b\"],[0.6666666666666666,\"#ed7953\"],[0.7777777777777778,\"#fb9f3a\"],[0.8888888888888888,\"#fdca26\"],[1.0,\"#f0f921\"]]}],\"contourcarpet\":[{\"type\":\"contourcarpet\",\"colorbar\":{\"outlinewidth\":0,\"ticks\":\"\"}}],\"contour\":[{\"type\":\"contour\",\"colorbar\":{\"outlinewidth\":0,\"ticks\":\"\"},\"colorscale\":[[0.0,\"#0d0887\"],[0.1111111111111111,\"#46039f\"],[0.2222222222222222,\"#7201a8\"],[0.3333333333333333,\"#9c179e\"],[0.4444444444444444,\"#bd3786\"],[0.5555555555555556,\"#d8576b\"],[0.6666666666666666,\"#ed7953\"],[0.7777777777777778,\"#fb9f3a\"],[0.8888888888888888,\"#fdca26\"],[1.0,\"#f0f921\"]]}],\"surface\":[{\"type\":\"surface\",\"colorbar\":{\"outlinewidth\":0,\"ticks\":\"\"},\"colorscale\":[[0.0,\"#0d0887\"],[0.1111111111111111,\"#46039f\"],[0.2222222222222222,\"#7201a8\"],[0.3333333333333333,\"#9c179e\"],[0.4444444444444444,\"#bd3786\"],[0.5555555555555556,\"#d8576b\"],[0.6666666666666666,\"#ed7953\"],[0.7777777777777778,\"#fb9f3a\"],[0.8888888888888888,\"#fdca26\"],[1.0,\"#f0f921\"]]}],\"mesh3d\":[{\"type\":\"mesh3d\",\"colorbar\":{\"outlinewidth\":0,\"ticks\":\"\"}}],\"scatter\":[{\"fillpattern\":{\"fillmode\":\"overlay\",\"size\":10,\"solidity\":0.2},\"type\":\"scatter\"}],\"parcoords\":[{\"type\":\"parcoords\",\"line\":{\"colorbar\":{\"outlinewidth\":0,\"ticks\":\"\"}}}],\"scatterpolargl\":[{\"type\":\"scatterpolargl\",\"marker\":{\"colorbar\":{\"outlinewidth\":0,\"ticks\":\"\"}}}],\"bar\":[{\"error_x\":{\"color\":\"#2a3f5f\"},\"error_y\":{\"color\":\"#2a3f5f\"},\"marker\":{\"line\":{\"color\":\"#E5ECF6\",\"width\":0.5},\"pattern\":{\"fillmode\":\"overlay\",\"size\":10,\"solidity\":0.2}},\"type\":\"bar\"}],\"scattergeo\":[{\"type\":\"scattergeo\",\"marker\":{\"colorbar\":{\"outlinewidth\":0,\"ticks\":\"\"}}}],\"scatterpolar\":[{\"type\":\"scatterpolar\",\"marker\":{\"colorbar\":{\"outlinewidth\":0,\"ticks\":\"\"}}}],\"histogram\":[{\"marker\":{\"pattern\":{\"fillmode\":\"overlay\",\"size\":10,\"solidity\":0.2}},\"type\":\"histogram\"}],\"scattergl\":[{\"type\":\"scattergl\",\"marker\":{\"colorbar\":{\"outlinewidth\":0,\"ticks\":\"\"}}}],\"scatter3d\":[{\"type\":\"scatter3d\",\"line\":{\"colorbar\":{\"outlinewidth\":0,\"ticks\":\"\"}},\"marker\":{\"colorbar\":{\"outlinewidth\":0,\"ticks\":\"\"}}}],\"scattermapbox\":[{\"type\":\"scattermapbox\",\"marker\":{\"colorbar\":{\"outlinewidth\":0,\"ticks\":\"\"}}}],\"scatterternary\":[{\"type\":\"scatterternary\",\"marker\":{\"colorbar\":{\"outlinewidth\":0,\"ticks\":\"\"}}}],\"scattercarpet\":[{\"type\":\"scattercarpet\",\"marker\":{\"colorbar\":{\"outlinewidth\":0,\"ticks\":\"\"}}}],\"carpet\":[{\"aaxis\":{\"endlinecolor\":\"#2a3f5f\",\"gridcolor\":\"white\",\"linecolor\":\"white\",\"minorgridcolor\":\"white\",\"startlinecolor\":\"#2a3f5f\"},\"baxis\":{\"endlinecolor\":\"#2a3f5f\",\"gridcolor\":\"white\",\"linecolor\":\"white\",\"minorgridcolor\":\"white\",\"startlinecolor\":\"#2a3f5f\"},\"type\":\"carpet\"}],\"table\":[{\"cells\":{\"fill\":{\"color\":\"#EBF0F8\"},\"line\":{\"color\":\"white\"}},\"header\":{\"fill\":{\"color\":\"#C8D4E3\"},\"line\":{\"color\":\"white\"}},\"type\":\"table\"}],\"barpolar\":[{\"marker\":{\"line\":{\"color\":\"#E5ECF6\",\"width\":0.5},\"pattern\":{\"fillmode\":\"overlay\",\"size\":10,\"solidity\":0.2}},\"type\":\"barpolar\"}],\"pie\":[{\"automargin\":true,\"type\":\"pie\"}]},\"layout\":{\"autotypenumbers\":\"strict\",\"colorway\":[\"#636efa\",\"#EF553B\",\"#00cc96\",\"#ab63fa\",\"#FFA15A\",\"#19d3f3\",\"#FF6692\",\"#B6E880\",\"#FF97FF\",\"#FECB52\"],\"font\":{\"color\":\"#2a3f5f\"},\"hovermode\":\"closest\",\"hoverlabel\":{\"align\":\"left\"},\"paper_bgcolor\":\"white\",\"plot_bgcolor\":\"#E5ECF6\",\"polar\":{\"bgcolor\":\"#E5ECF6\",\"angularaxis\":{\"gridcolor\":\"white\",\"linecolor\":\"white\",\"ticks\":\"\"},\"radialaxis\":{\"gridcolor\":\"white\",\"linecolor\":\"white\",\"ticks\":\"\"}},\"ternary\":{\"bgcolor\":\"#E5ECF6\",\"aaxis\":{\"gridcolor\":\"white\",\"linecolor\":\"white\",\"ticks\":\"\"},\"baxis\":{\"gridcolor\":\"white\",\"linecolor\":\"white\",\"ticks\":\"\"},\"caxis\":{\"gridcolor\":\"white\",\"linecolor\":\"white\",\"ticks\":\"\"}},\"coloraxis\":{\"colorbar\":{\"outlinewidth\":0,\"ticks\":\"\"}},\"colorscale\":{\"sequential\":[[0.0,\"#0d0887\"],[0.1111111111111111,\"#46039f\"],[0.2222222222222222,\"#7201a8\"],[0.3333333333333333,\"#9c179e\"],[0.4444444444444444,\"#bd3786\"],[0.5555555555555556,\"#d8576b\"],[0.6666666666666666,\"#ed7953\"],[0.7777777777777778,\"#fb9f3a\"],[0.8888888888888888,\"#fdca26\"],[1.0,\"#f0f921\"]],\"sequentialminus\":[[0.0,\"#0d0887\"],[0.1111111111111111,\"#46039f\"],[0.2222222222222222,\"#7201a8\"],[0.3333333333333333,\"#9c179e\"],[0.4444444444444444,\"#bd3786\"],[0.5555555555555556,\"#d8576b\"],[0.6666666666666666,\"#ed7953\"],[0.7777777777777778,\"#fb9f3a\"],[0.8888888888888888,\"#fdca26\"],[1.0,\"#f0f921\"]],\"diverging\":[[0,\"#8e0152\"],[0.1,\"#c51b7d\"],[0.2,\"#de77ae\"],[0.3,\"#f1b6da\"],[0.4,\"#fde0ef\"],[0.5,\"#f7f7f7\"],[0.6,\"#e6f5d0\"],[0.7,\"#b8e186\"],[0.8,\"#7fbc41\"],[0.9,\"#4d9221\"],[1,\"#276419\"]]},\"xaxis\":{\"gridcolor\":\"white\",\"linecolor\":\"white\",\"ticks\":\"\",\"title\":{\"standoff\":15},\"zerolinecolor\":\"white\",\"automargin\":true,\"zerolinewidth\":2},\"yaxis\":{\"gridcolor\":\"white\",\"linecolor\":\"white\",\"ticks\":\"\",\"title\":{\"standoff\":15},\"zerolinecolor\":\"white\",\"automargin\":true,\"zerolinewidth\":2},\"scene\":{\"xaxis\":{\"backgroundcolor\":\"#E5ECF6\",\"gridcolor\":\"white\",\"linecolor\":\"white\",\"showbackground\":true,\"ticks\":\"\",\"zerolinecolor\":\"white\",\"gridwidth\":2},\"yaxis\":{\"backgroundcolor\":\"#E5ECF6\",\"gridcolor\":\"white\",\"linecolor\":\"white\",\"showbackground\":true,\"ticks\":\"\",\"zerolinecolor\":\"white\",\"gridwidth\":2},\"zaxis\":{\"backgroundcolor\":\"#E5ECF6\",\"gridcolor\":\"white\",\"linecolor\":\"white\",\"showbackground\":true,\"ticks\":\"\",\"zerolinecolor\":\"white\",\"gridwidth\":2}},\"shapedefaults\":{\"line\":{\"color\":\"#2a3f5f\"}},\"annotationdefaults\":{\"arrowcolor\":\"#2a3f5f\",\"arrowhead\":0,\"arrowwidth\":1},\"geo\":{\"bgcolor\":\"white\",\"landcolor\":\"#E5ECF6\",\"subunitcolor\":\"white\",\"showland\":true,\"showlakes\":true,\"lakecolor\":\"white\"},\"title\":{\"x\":0.05},\"mapbox\":{\"style\":\"light\"}}},\"xaxis\":{\"anchor\":\"y\",\"domain\":[0.0,1.0],\"title\":{\"text\":\"Product Category\"},\"tickangle\":45},\"yaxis\":{\"anchor\":\"x\",\"domain\":[0.0,1.0],\"title\":{\"text\":\"y\"}},\"legend\":{\"tracegroupgap\":0},\"title\":{\"text\":\"Product Category Frequency Diagram\"},\"barmode\":\"relative\"},                        {\"responsive\": true}                    ).then(function(){\n",
              "                            \n",
              "var gd = document.getElementById('6fafa64c-20a9-428a-8d1e-03e7095208e0');\n",
              "var x = new MutationObserver(function (mutations, observer) {{\n",
              "        var display = window.getComputedStyle(gd).display;\n",
              "        if (!display || display === 'none') {{\n",
              "            console.log([gd, 'removed!']);\n",
              "            Plotly.purge(gd);\n",
              "            observer.disconnect();\n",
              "        }}\n",
              "}});\n",
              "\n",
              "// Listen for the removal of the full notebook cells\n",
              "var notebookContainer = gd.closest('#notebook-container');\n",
              "if (notebookContainer) {{\n",
              "    x.observe(notebookContainer, {childList: true});\n",
              "}}\n",
              "\n",
              "// Listen for the clearing of the current output cell\n",
              "var outputEl = gd.closest('.output');\n",
              "if (outputEl) {{\n",
              "    x.observe(outputEl, {childList: true});\n",
              "}}\n",
              "\n",
              "                        })                };                            </script>        </div>\n",
              "</body>\n",
              "</html>"
            ]
          },
          "metadata": {}
        },
        {
          "output_type": "display_data",
          "data": {
            "text/html": [
              "<html>\n",
              "<head><meta charset=\"utf-8\" /></head>\n",
              "<body>\n",
              "    <div>            <script src=\"https://cdnjs.cloudflare.com/ajax/libs/mathjax/2.7.5/MathJax.js?config=TeX-AMS-MML_SVG\"></script><script type=\"text/javascript\">if (window.MathJax && window.MathJax.Hub && window.MathJax.Hub.Config) {window.MathJax.Hub.Config({SVG: {font: \"STIX-Web\"}});}</script>                <script type=\"text/javascript\">window.PlotlyConfig = {MathJaxConfig: 'local'};</script>\n",
              "        <script charset=\"utf-8\" src=\"https://cdn.plot.ly/plotly-2.24.1.min.js\"></script>                <div id=\"a74e0969-741f-4b93-87ab-53ff2e329f92\" class=\"plotly-graph-div\" style=\"height:525px; width:100%;\"></div>            <script type=\"text/javascript\">                                    window.PLOTLYENV=window.PLOTLYENV || {};                                    if (document.getElementById(\"a74e0969-741f-4b93-87ab-53ff2e329f92\")) {                    Plotly.newPlot(                        \"a74e0969-741f-4b93-87ab-53ff2e329f92\",                        [{\"hovertemplate\":\"Product Category=Excellent\\u003cbr\\u003eProduct Name=%{x}\\u003cbr\\u003eRating=%{y}\\u003cextra\\u003e\\u003c\\u002fextra\\u003e\",\"legendgroup\":\"Excellent\",\"marker\":{\"color\":\"#636efa\",\"symbol\":\"circle\"},\"mode\":\"markers\",\"name\":\"Excellent\",\"orientation\":\"v\",\"showlegend\":true,\"x\":[\"them\",\"commercial\",\"money\"],\"xaxis\":\"x\",\"y\":[10.0,9.9,9.9],\"yaxis\":\"y\",\"type\":\"scatter\"},{\"hovertemplate\":\"Product Category=Good\\u003cbr\\u003eProduct Name=%{x}\\u003cbr\\u003eRating=%{y}\\u003cextra\\u003e\\u003c\\u002fextra\\u003e\",\"legendgroup\":\"Good\",\"marker\":{\"color\":\"#EF553B\",\"symbol\":\"circle\"},\"mode\":\"markers\",\"name\":\"Good\",\"orientation\":\"v\",\"showlegend\":true,\"x\":[\"maintain\",\"might\",\"continue\",\"teacher\",\"by\",\"dream\",\"need\"],\"xaxis\":\"x\",\"y\":[10.0,10.0,10.0,10.0,10.0,10.0,10.0],\"yaxis\":\"y\",\"type\":\"scatter\"}],                        {\"template\":{\"data\":{\"histogram2dcontour\":[{\"type\":\"histogram2dcontour\",\"colorbar\":{\"outlinewidth\":0,\"ticks\":\"\"},\"colorscale\":[[0.0,\"#0d0887\"],[0.1111111111111111,\"#46039f\"],[0.2222222222222222,\"#7201a8\"],[0.3333333333333333,\"#9c179e\"],[0.4444444444444444,\"#bd3786\"],[0.5555555555555556,\"#d8576b\"],[0.6666666666666666,\"#ed7953\"],[0.7777777777777778,\"#fb9f3a\"],[0.8888888888888888,\"#fdca26\"],[1.0,\"#f0f921\"]]}],\"choropleth\":[{\"type\":\"choropleth\",\"colorbar\":{\"outlinewidth\":0,\"ticks\":\"\"}}],\"histogram2d\":[{\"type\":\"histogram2d\",\"colorbar\":{\"outlinewidth\":0,\"ticks\":\"\"},\"colorscale\":[[0.0,\"#0d0887\"],[0.1111111111111111,\"#46039f\"],[0.2222222222222222,\"#7201a8\"],[0.3333333333333333,\"#9c179e\"],[0.4444444444444444,\"#bd3786\"],[0.5555555555555556,\"#d8576b\"],[0.6666666666666666,\"#ed7953\"],[0.7777777777777778,\"#fb9f3a\"],[0.8888888888888888,\"#fdca26\"],[1.0,\"#f0f921\"]]}],\"heatmap\":[{\"type\":\"heatmap\",\"colorbar\":{\"outlinewidth\":0,\"ticks\":\"\"},\"colorscale\":[[0.0,\"#0d0887\"],[0.1111111111111111,\"#46039f\"],[0.2222222222222222,\"#7201a8\"],[0.3333333333333333,\"#9c179e\"],[0.4444444444444444,\"#bd3786\"],[0.5555555555555556,\"#d8576b\"],[0.6666666666666666,\"#ed7953\"],[0.7777777777777778,\"#fb9f3a\"],[0.8888888888888888,\"#fdca26\"],[1.0,\"#f0f921\"]]}],\"heatmapgl\":[{\"type\":\"heatmapgl\",\"colorbar\":{\"outlinewidth\":0,\"ticks\":\"\"},\"colorscale\":[[0.0,\"#0d0887\"],[0.1111111111111111,\"#46039f\"],[0.2222222222222222,\"#7201a8\"],[0.3333333333333333,\"#9c179e\"],[0.4444444444444444,\"#bd3786\"],[0.5555555555555556,\"#d8576b\"],[0.6666666666666666,\"#ed7953\"],[0.7777777777777778,\"#fb9f3a\"],[0.8888888888888888,\"#fdca26\"],[1.0,\"#f0f921\"]]}],\"contourcarpet\":[{\"type\":\"contourcarpet\",\"colorbar\":{\"outlinewidth\":0,\"ticks\":\"\"}}],\"contour\":[{\"type\":\"contour\",\"colorbar\":{\"outlinewidth\":0,\"ticks\":\"\"},\"colorscale\":[[0.0,\"#0d0887\"],[0.1111111111111111,\"#46039f\"],[0.2222222222222222,\"#7201a8\"],[0.3333333333333333,\"#9c179e\"],[0.4444444444444444,\"#bd3786\"],[0.5555555555555556,\"#d8576b\"],[0.6666666666666666,\"#ed7953\"],[0.7777777777777778,\"#fb9f3a\"],[0.8888888888888888,\"#fdca26\"],[1.0,\"#f0f921\"]]}],\"surface\":[{\"type\":\"surface\",\"colorbar\":{\"outlinewidth\":0,\"ticks\":\"\"},\"colorscale\":[[0.0,\"#0d0887\"],[0.1111111111111111,\"#46039f\"],[0.2222222222222222,\"#7201a8\"],[0.3333333333333333,\"#9c179e\"],[0.4444444444444444,\"#bd3786\"],[0.5555555555555556,\"#d8576b\"],[0.6666666666666666,\"#ed7953\"],[0.7777777777777778,\"#fb9f3a\"],[0.8888888888888888,\"#fdca26\"],[1.0,\"#f0f921\"]]}],\"mesh3d\":[{\"type\":\"mesh3d\",\"colorbar\":{\"outlinewidth\":0,\"ticks\":\"\"}}],\"scatter\":[{\"fillpattern\":{\"fillmode\":\"overlay\",\"size\":10,\"solidity\":0.2},\"type\":\"scatter\"}],\"parcoords\":[{\"type\":\"parcoords\",\"line\":{\"colorbar\":{\"outlinewidth\":0,\"ticks\":\"\"}}}],\"scatterpolargl\":[{\"type\":\"scatterpolargl\",\"marker\":{\"colorbar\":{\"outlinewidth\":0,\"ticks\":\"\"}}}],\"bar\":[{\"error_x\":{\"color\":\"#2a3f5f\"},\"error_y\":{\"color\":\"#2a3f5f\"},\"marker\":{\"line\":{\"color\":\"#E5ECF6\",\"width\":0.5},\"pattern\":{\"fillmode\":\"overlay\",\"size\":10,\"solidity\":0.2}},\"type\":\"bar\"}],\"scattergeo\":[{\"type\":\"scattergeo\",\"marker\":{\"colorbar\":{\"outlinewidth\":0,\"ticks\":\"\"}}}],\"scatterpolar\":[{\"type\":\"scatterpolar\",\"marker\":{\"colorbar\":{\"outlinewidth\":0,\"ticks\":\"\"}}}],\"histogram\":[{\"marker\":{\"pattern\":{\"fillmode\":\"overlay\",\"size\":10,\"solidity\":0.2}},\"type\":\"histogram\"}],\"scattergl\":[{\"type\":\"scattergl\",\"marker\":{\"colorbar\":{\"outlinewidth\":0,\"ticks\":\"\"}}}],\"scatter3d\":[{\"type\":\"scatter3d\",\"line\":{\"colorbar\":{\"outlinewidth\":0,\"ticks\":\"\"}},\"marker\":{\"colorbar\":{\"outlinewidth\":0,\"ticks\":\"\"}}}],\"scattermapbox\":[{\"type\":\"scattermapbox\",\"marker\":{\"colorbar\":{\"outlinewidth\":0,\"ticks\":\"\"}}}],\"scatterternary\":[{\"type\":\"scatterternary\",\"marker\":{\"colorbar\":{\"outlinewidth\":0,\"ticks\":\"\"}}}],\"scattercarpet\":[{\"type\":\"scattercarpet\",\"marker\":{\"colorbar\":{\"outlinewidth\":0,\"ticks\":\"\"}}}],\"carpet\":[{\"aaxis\":{\"endlinecolor\":\"#2a3f5f\",\"gridcolor\":\"white\",\"linecolor\":\"white\",\"minorgridcolor\":\"white\",\"startlinecolor\":\"#2a3f5f\"},\"baxis\":{\"endlinecolor\":\"#2a3f5f\",\"gridcolor\":\"white\",\"linecolor\":\"white\",\"minorgridcolor\":\"white\",\"startlinecolor\":\"#2a3f5f\"},\"type\":\"carpet\"}],\"table\":[{\"cells\":{\"fill\":{\"color\":\"#EBF0F8\"},\"line\":{\"color\":\"white\"}},\"header\":{\"fill\":{\"color\":\"#C8D4E3\"},\"line\":{\"color\":\"white\"}},\"type\":\"table\"}],\"barpolar\":[{\"marker\":{\"line\":{\"color\":\"#E5ECF6\",\"width\":0.5},\"pattern\":{\"fillmode\":\"overlay\",\"size\":10,\"solidity\":0.2}},\"type\":\"barpolar\"}],\"pie\":[{\"automargin\":true,\"type\":\"pie\"}]},\"layout\":{\"autotypenumbers\":\"strict\",\"colorway\":[\"#636efa\",\"#EF553B\",\"#00cc96\",\"#ab63fa\",\"#FFA15A\",\"#19d3f3\",\"#FF6692\",\"#B6E880\",\"#FF97FF\",\"#FECB52\"],\"font\":{\"color\":\"#2a3f5f\"},\"hovermode\":\"closest\",\"hoverlabel\":{\"align\":\"left\"},\"paper_bgcolor\":\"white\",\"plot_bgcolor\":\"#E5ECF6\",\"polar\":{\"bgcolor\":\"#E5ECF6\",\"angularaxis\":{\"gridcolor\":\"white\",\"linecolor\":\"white\",\"ticks\":\"\"},\"radialaxis\":{\"gridcolor\":\"white\",\"linecolor\":\"white\",\"ticks\":\"\"}},\"ternary\":{\"bgcolor\":\"#E5ECF6\",\"aaxis\":{\"gridcolor\":\"white\",\"linecolor\":\"white\",\"ticks\":\"\"},\"baxis\":{\"gridcolor\":\"white\",\"linecolor\":\"white\",\"ticks\":\"\"},\"caxis\":{\"gridcolor\":\"white\",\"linecolor\":\"white\",\"ticks\":\"\"}},\"coloraxis\":{\"colorbar\":{\"outlinewidth\":0,\"ticks\":\"\"}},\"colorscale\":{\"sequential\":[[0.0,\"#0d0887\"],[0.1111111111111111,\"#46039f\"],[0.2222222222222222,\"#7201a8\"],[0.3333333333333333,\"#9c179e\"],[0.4444444444444444,\"#bd3786\"],[0.5555555555555556,\"#d8576b\"],[0.6666666666666666,\"#ed7953\"],[0.7777777777777778,\"#fb9f3a\"],[0.8888888888888888,\"#fdca26\"],[1.0,\"#f0f921\"]],\"sequentialminus\":[[0.0,\"#0d0887\"],[0.1111111111111111,\"#46039f\"],[0.2222222222222222,\"#7201a8\"],[0.3333333333333333,\"#9c179e\"],[0.4444444444444444,\"#bd3786\"],[0.5555555555555556,\"#d8576b\"],[0.6666666666666666,\"#ed7953\"],[0.7777777777777778,\"#fb9f3a\"],[0.8888888888888888,\"#fdca26\"],[1.0,\"#f0f921\"]],\"diverging\":[[0,\"#8e0152\"],[0.1,\"#c51b7d\"],[0.2,\"#de77ae\"],[0.3,\"#f1b6da\"],[0.4,\"#fde0ef\"],[0.5,\"#f7f7f7\"],[0.6,\"#e6f5d0\"],[0.7,\"#b8e186\"],[0.8,\"#7fbc41\"],[0.9,\"#4d9221\"],[1,\"#276419\"]]},\"xaxis\":{\"gridcolor\":\"white\",\"linecolor\":\"white\",\"ticks\":\"\",\"title\":{\"standoff\":15},\"zerolinecolor\":\"white\",\"automargin\":true,\"zerolinewidth\":2},\"yaxis\":{\"gridcolor\":\"white\",\"linecolor\":\"white\",\"ticks\":\"\",\"title\":{\"standoff\":15},\"zerolinecolor\":\"white\",\"automargin\":true,\"zerolinewidth\":2},\"scene\":{\"xaxis\":{\"backgroundcolor\":\"#E5ECF6\",\"gridcolor\":\"white\",\"linecolor\":\"white\",\"showbackground\":true,\"ticks\":\"\",\"zerolinecolor\":\"white\",\"gridwidth\":2},\"yaxis\":{\"backgroundcolor\":\"#E5ECF6\",\"gridcolor\":\"white\",\"linecolor\":\"white\",\"showbackground\":true,\"ticks\":\"\",\"zerolinecolor\":\"white\",\"gridwidth\":2},\"zaxis\":{\"backgroundcolor\":\"#E5ECF6\",\"gridcolor\":\"white\",\"linecolor\":\"white\",\"showbackground\":true,\"ticks\":\"\",\"zerolinecolor\":\"white\",\"gridwidth\":2}},\"shapedefaults\":{\"line\":{\"color\":\"#2a3f5f\"}},\"annotationdefaults\":{\"arrowcolor\":\"#2a3f5f\",\"arrowhead\":0,\"arrowwidth\":1},\"geo\":{\"bgcolor\":\"white\",\"landcolor\":\"#E5ECF6\",\"subunitcolor\":\"white\",\"showland\":true,\"showlakes\":true,\"lakecolor\":\"white\"},\"title\":{\"x\":0.05},\"mapbox\":{\"style\":\"light\"}}},\"xaxis\":{\"anchor\":\"y\",\"domain\":[0.0,1.0],\"title\":{\"text\":\"Product Name\"},\"tickangle\":45},\"yaxis\":{\"anchor\":\"x\",\"domain\":[0.0,1.0],\"title\":{\"text\":\"Rating\"}},\"legend\":{\"title\":{\"text\":\"Product Category\"},\"tracegroupgap\":0},\"title\":{\"text\":\"Top Rated Products\"}},                        {\"responsive\": true}                    ).then(function(){\n",
              "                            \n",
              "var gd = document.getElementById('a74e0969-741f-4b93-87ab-53ff2e329f92');\n",
              "var x = new MutationObserver(function (mutations, observer) {{\n",
              "        var display = window.getComputedStyle(gd).display;\n",
              "        if (!display || display === 'none') {{\n",
              "            console.log([gd, 'removed!']);\n",
              "            Plotly.purge(gd);\n",
              "            observer.disconnect();\n",
              "        }}\n",
              "}});\n",
              "\n",
              "// Listen for the removal of the full notebook cells\n",
              "var notebookContainer = gd.closest('#notebook-container');\n",
              "if (notebookContainer) {{\n",
              "    x.observe(notebookContainer, {childList: true});\n",
              "}}\n",
              "\n",
              "// Listen for the clearing of the current output cell\n",
              "var outputEl = gd.closest('.output');\n",
              "if (outputEl) {{\n",
              "    x.observe(outputEl, {childList: true});\n",
              "}}\n",
              "\n",
              "                        })                };                            </script>        </div>\n",
              "</body>\n",
              "</html>"
            ]
          },
          "metadata": {}
        }
      ]
    },
    {
      "cell_type": "code",
      "source": [
        "# prompt: get all the top rated products name\n",
        "\n",
        "top_rated_products = rd.sort_values(by='Rating', ascending=False)\n",
        "top_rated_product_names = top_rated_products['Product Name'].tolist()\n",
        "print(top_rated_product_names)\n"
      ],
      "metadata": {
        "colab": {
          "base_uri": "https://localhost:8080/"
        },
        "id": "z02rBUFF3x-r",
        "outputId": "d51a8dbf-408d-48e3-955f-b5fd1a71c2d2"
      },
      "execution_count": 35,
      "outputs": [
        {
          "output_type": "stream",
          "name": "stdout",
          "text": [
            "['continue', 'teacher', 'need', 'dream', 'by', 'them', 'maintain', 'might', 'direction', 'open', 'theory', 'responsibility', 'hour', 'I', 'hear', 'involve', 'feeling', 'you', 'likely', 'up', 'similar', 'those', 'bill', 'commercial', 'money', 'benefit', 'notice', 'go', 'unit', 'statement', 'wear', 'spring', 'what', 'police', 'decision', 'follow', 'book', 'father', 'add', 'job', 'mother', 'list', 'society', 'source', 'majority', 'behavior', 'stand', 'stand', 'listen', 'worry', 'all', 'point', 'meet', 'that', 'nature', 'skin', 'cut', 'lot', 'hot', 'white', 'watch', 'goal', 'animal', 'people', 'whom', 'hair', 'degree', 'different', 'hot', 'hard', 'appear', 'indicate', 'budget', 'move', 'continue', 'onto', 'couple', 'position', 'anyone', 'degree', 'line', 'big', 'interesting', 'next', 'hard', 'recent', 'personal', 'themselves', 'catch', 'challenge', 'enjoy', 'him', 'space', 'station', 'list', 'family', 'mind', 'upon', 'audience', 'bill', 'bar', 'rest', 'data', 'mother', 'task', 'newspaper', 'friend', 'face', 'eat', 'reveal', 'plant', 'participant', 'what', 'they', 'bring', 'home', 'indicate', 'speech', 'will', 'hold', 'nice', 'join', 'think', 'man', 'across', 'protect', 'him', 'often', 'majority', 'choice', 'affect', 'hair', 'out', 'thousand', 'news', 'act', 'question', 'save', 'television', 'head', 'single', 'thought', 'drop', 'collection', 'eat', 'trade', 'quality', 'industry', 'throw', 'people', 'like', 'to', 'chance', 'important', 'stage', 'hour', 'decade', 'force', 'purpose', 'big', 'argue', 'role', 'fill', 'cause', 'discover', 'across', 'someone', 'list', 'baby', 'billion', 'shake', 'another', 'section', 'suggest', 'effect', 'yes', 'able', 'manage', 'almost', 'manager', 'agree', 'laugh', 'sense', 'field', 'page', 'finish', 'time', 'collection', 'floor', 'remember', 'line', 'result', 'memory', 'determine', 'answer', 'most', 'idea', 'drug', 'different', 'also', 'place', 'official', 'condition', 'relate', 'adult', 'institution', 'knowledge', 'Republican', 'else', 'treat', 'whole', 'edge', 'weight', 'manager', 'education', 'Mr', 'pay', 'certainly', 'figure', 'half', 'never', 'fly', 'free', 'information', 'network', 'challenge', 'case', 'keep', 'event', 'book', 'news', 'fast', 'political', 'read', 'go', 'student', 'director', 'door', 'though', 'lay', 'late', 'bill', 'history', 'national', 'effort', 'now', 'turn', 'food', 'ask', 'son', 'different', 'modern', 'tough', 'ball', 'seem', 'agent', 'notice', 'ball', 'rise', 'anyone', 'ground', 'report', 'dinner', 'character', 'million', 'task', 'war', 'save', 'relationship', 'order', 'story', 'practice', 'hot', 'exactly', 'look', 'back', 'should', 'evening', 'play', 'major', 'none', 'heart', 'else', 'easy', 'energy', 'rather', 'voice', 'never', 'ground', 'meeting', 'stop', 'look', 'rest', 'fly', 'side', 'treatment', 'begin', 'yet', 'indicate', 'traditional', 'lot', 'nearly', 'cell', 'else', 'part', 'fish', 'begin', 'lose', 'specific', 'probably', 'detail', 'piece', 'back', 'woman', 'player', 'easy', 'fish', 'south', 'pass', 'Democrat', 'risk', 'need', 'behavior', 'language', 'they', 'rate', 'training', 'sea', 'much', 'shoulder', 'over', 'difficult', 'country', 'religious', 'quite', 'late', 'board', 'full', 'side', 'blue', 'art', 'full', 'mind', 'hospital', 'memory', 'maybe', 'doctor', 'letter', 'statement', 'discussion', 'argue', 'price', 'near', 'stay', 'two', 'within', 'professor', 'above', 'talk', 'require', 'design', 'could', 'three', 'his', 'quite', 'represent', 'whose', 'receive', 'throughout', 'door', 'rock', 'understand', 'kid', 'government', 'heart', 'arm', 'identify', 'research', 'ask', 'bad', 'interest', 'investment', 'family', 'wall', 'beat', 'world', 'perform', 'economic', 'TV', 'under', 'everyone', 'recognize', 'white', 'understand', 'develop', 'military', 'well', 'consumer', 'side', 'live', 'dream', 'again', 'young', 'debate', 'instead', 'stand', 'strategy', 'choice', 'agency', 'idea', 'wife', 'market', 'once', 'talk', 'chance', 'boy', 'writer', 'community', 'begin', 'top', 'beat', 'bar', 'positive', 'picture', 'standard', 'consumer', 'girl', 'also', 'require', 'up', 'trip', 'on', 'yet', 'however', 'teach', 'meet', 'sort', 'them', 'main', 'reflect', 'PM', 'peace', 'dog', 'site', 'positive', 'fill', 'leader', 'pull', 'argue', 'sing', 'space', 'side', 'record', 'maintain', 'admit', 'agreement', 'official', 'discussion', 'bad', 'song', 'today', 'close', 'mention', 'rock', 'white', 'old', 'young', 'onto', 'local', 'idea', 'sit', 'government', 'author', 'them', 'spring', 'report', 'purpose', 'do', 'discussion', 'herself', 'southern', 'almost', 'think', 'thank', 'type', 'suggest', 'save', 'those', 'vote', 'understand', 'evidence', 'tree', 'word', 'could', 'though', 'lay', 'the', 'green', 'positive', 'much', 'describe', 'smile', 'remain', 'along', 'summer', 'behavior', 'might', 'phone', 'person', 'us', 'she', 'particular', 'guy', 'affect', 'agreement', 'the', 'home', 'image', 'task', 'truth', 'ok', 'few', 'trial', 'think', 'treatment', 'return', 'agreement', 'listen', 'admit', 'thought', 'suggest', 'make', 'direction', 'standard', 'return', 'face', 'institution', 'total', 'worry', 'room', 'attack', 'least', 'condition', 'skill', 'evening', 'affect', 'yard', 'stand', 'else', 'young', 'half', 'activity', 'performance', 'then', 'scene', 'between', 'of', 'record', 'behavior', 'level', 'moment', 'leg', 'response', 'few', 'worker', 'rather', 'final', 'bit', 'certain', 'reality', 'effort', 'actually', 'avoid', 'ten', 'affect', 'best', 'western', 'memory', 'memory', 'edge', 'security', 'brother', 'news', 'enjoy', 'Congress', 'behind', 'trial', 'them', 'son', 'expert', 'modern', 'him', 'head', 'focus', 'example', 'one', 'blood', 'hit', 'prove', 'adult', 'rock', 'break', 'mother', 'right', 'around', 'beat', 'trial', 'laugh', 'commercial', 'turn', 'stay', 'politics', 'compare', 'realize', 'account', 'letter', 'apply', 'out', 'fish', 'if', 'Mr', 'could', 'whom', 'weight', 'argue', 'star', 'remember', 'trial', 'defense', 'couple', 'financial', 'movie', 'thank', 'big', 'more', 'value', 'camera', 'store', 'above', 'hot', 'you', 'toward', 'sound', 'even', 'energy', 'receive', 'edge', 'put', 'know', 'why', 'administration', 'nor', 'price', 'food', 'spring', 'much', 'avoid', 'game', 'business', 'show', 'serve', 'various', 'mission', 'and', 'image', 'end', 'reflect', 'yard', 'issue', 'order', 'beat', 'TRUE', 'answer', 'risk', 'black', 'fish', 'support', 'protect', 'meeting', 'drug', 'watch', 'team', 'news', 'road', 'friend', 'send', 'find', 'system', 'culture', 'soldier', 'whether', 'crime', 'safe', 'book', 'because', 'still', 'discussion', 'doctor', 'without', 'physical', 'himself', 'day', 'particular', 'cut', 'six', 'them', 'specific', 'quite', 'north', 'garden', 'position', 'receive', 'mind', 'number', 'front', 'although', 'reflect', 'field', 'easy', 'wait', 'early', 'fine', 'PM', 'dream', 'staff', 'rise', 'difference', 'try', 'each', 'address', 'her', 'word', 'if', 'toward', 'smile', 'eye', 'painting', 'positive', 'high', 'coach', 'agency', 'method', 'model', 'important', 'skin', 'seek', 'good', 'personal', 'news', 'on', 'break', 'of', 'usually', 'by', 'policy', 'pay', 'safe', 'traditional', 'I', 'media', 'system', 'position', 'face', 'force', 'dog', 'a', 'compare', 'decision', 'often', 'I', 'force', 'wide', 'probably', 'education', 'health', 'point', 'final', 'cut', 'girl', 'contain', 'idea', 'eye', 'guess', 'wind', 'clearly', 'or', 'anything', 'become', 'chair', 'Congress', 'series', 'direction', 'tend', 'moment', 'important', 'education', 'health', 'commercial', 'ok', 'wife', 'include', 'finish', 'pressure', 'loss', 'plan', 'look', 'wait', 'body', 'sea', 'space', 'easy', 'development', 'campaign', 'especially', 'the', 'activity', 'use', 'face', 'science', 'military', 'not', 'ever', 'catch', 'exist', 'from', 'what', 'boy', 'debate', 'sometimes', 'adult', 'budget', 'back', 'career', 'over', 'available', 'base', 'light', 'bill', 'act', 'middle', 'be', 'walk', 'yeah', 'list', 'three', 'reduce', 'beat', 'pressure', 'religious', 'cost', 'this', 'father', 'serious', 'anyone', 'main', 'condition', 'also', 'work', 'my', 'statement', 'month', 'sure', 'five', 'spend', 'team', 'smile', 'would', 'job', 'myself', 'mission', 'exist', 'about', 'get', 'scene', 'everyone', 'conference', 'place', 'half', 'rather', 'store', 'sometimes', 'base', 'year', 'recently', 'ready', 'protect', 'door', 'establish', 'course', 'half', 'find', 'remain', 'cultural', 'any', 'country', 'bar', 'happy', 'support', 'shake', 'serve', 'oil', 'necessary', 'also', 'represent', 'child', 'might', 'Democrat', 'tax', 'campaign', 'set', 'dream', 'course', 'put', 'model', 'back', 'present', 'inside', 'detail', 'crime', 'society', 'glass', 'play', 'public', 'with', 'few', 'successful', 'impact', 'structure', 'purpose', 'school', 'less', 'big', 'friend', 'teach', 'great', 'no', 'rate', 'style', 'exist', 'budget', 'foreign', 'share', 'most', 'interesting', 'he', 'president', 'despite', 'American', 'evening', 'mission', 'hundred', 'chair', 'service', 'guy', 'national', 'campaign', 'word', 'market', 'prevent', 'down', 'until', 'life', 'she', 'shoulder', 'girl', 'instead', 'north', 'commercial', 'share', 'peace', 'everybody', 'development', 'better', 'all', 'prove', 'near', 'add', 'anything', 'send', 'movement', 'often', 'service', 'join', 'anything', 'court', 'head', 'reveal', 'five', 'husband', 'nor', 'executive', 'against', 'born', 'sort', 'team', 'stage', 'let', 'size', 'high', 'report', 'front', 'training', 'country', 'establish', 'history', 'school', 'policy', 'each', 'perform', 'risk', 'ten', 'on', 'effort', 'story', 'however', 'hair', 'reveal', 'voice', 'include', 'group', 'claim', 'just', 'shake', 'senior', 'draw', 'choose', 'your', 'example', 'within', 'start', 'toward', 'describe', 'strategy', 'economy', 'little', 'while', 'reduce', 'task', 'only', 'which', 'peace', 'service', 'tax', 'strategy', 'sit', 'history', 'him', 'bar', 'out', 'bring', 'through', 'whole', 'staff', 'onto', 'song', 'lot', 'after', 'industry', 'fear', 'yeah', 'great', 'relationship', 'clearly', 'which', 'think', 'energy', 'can', 'pass', 'somebody', 'catch', 'fast', 'difference', 'sometimes', 'game', 'but', 'well', 'long', 'any', 'ago', 'guess', 'everyone', 'popular', 'nice', 'structure', 'herself', 'positive', 'yes', 'newspaper', 'they', 'according', 'call', 'practice', 'American', 'whatever', 'common', 'second', 'through', 'drive', 'do', 'institution', 'her', 'always', 'oil', 'machine', 'American', 'music', 'sense', 'form', 'approach', 'east', 'financial', 'sound', 'sport', 'interview', 'never', 'its', 'whatever', 'central', 'green', 'free', 'price', 'fine', 'student', 'open', 'lead', 'least', 'some', 'sense', 'cost', 'everyone', 'whole', 'page', 'provide', 'left', 'need', 'impact', 'walk', 'eat', 'concern', 'attack', 'take', 'also', 'interest', 'protect', 'office', 'here', 'treat', 'guy', 'within', 'my', 'project', 'concern', 'glass', 'cover', 'perform', 'special', 'space', 'cultural', 'pay', 'people', 'indeed', 'age', 'such', 'federal', 'remain', 'happen', 'remember', 'interest', 'reveal', 'within', 'per', 'prepare', 'little', 'bar', 'any', 'interview', 'school', 'stock', 'yourself', 'physical', 'fire', 'paper', 'head', 'hope', 'quite', 'reality', 'plan', 'face', 'thought', 'white', 'third', 'pull', 'discover', 'child', 'impact', 'determine', 'important', 'bring', 'customer', 'mean', 'skill', 'kind', 'take', 'truth', 'head', 'beyond', 'name', 'share', 'let', 'I', 'sure', 'prepare', 'today', 'gas', 'east', 'pattern', 'still', 'test', 'moment', 'around', 'home', 'herself', 'week', 'note', 'would', 'film', 'son', 'two', 'show', 'popular', 'Democrat', 'business', 'plan', 'save', 'seven', 'writer', 'claim', 'fall', 'value', 'lose', 'city', 'themselves', 'go', 'police', 'top', 'check', 'discover', 'current', 'exactly', 'citizen', 'turn', 'fine', 'assume', 'boy', 'newspaper', 'third', 'attorney', 'western', 'recent', 'positive', 'vote', 'reality', 'detail', 'town', 'because', 'machine', 'firm', 'media', 'couple', 'themselves', 'usually', 'student', 'rise', 'face', 'peace', 'point', 'pattern', 'any', 'spring', 'anyone', 'particularly', 'operation', 'American', 'month', 'though', 'body', 'check', 'hour', 'especially', 'Mr', 'song', 'break', 'public', 'wall', 'team', 'such', 'American', 'occur', 'tonight', 'skill', 'student', 'she', 'dinner', 'father', 'operation', 'join', 'upon', 'shake', 'film', 'always', 'suddenly', 'successful', 'case', 'perform', 'way', 'material', 'part', 'about', 'will', 'when', 'by', 'pick', 'rich', 'interview', 'such', 'expert', 'floor', 'field', 'team', 'where', 'defense', 'south', 'movement', 'little', 'talk', 'difference', 'hotel', 'service', 'remain', 'share', 'position', 'ready', 'upon', 'part', 'future', 'affect', 'price', 'power', 'continue', 'cup', 'continue', 'serious', 'record', 'again', 'consider', 'effort', 'state', 'kind', 'hour', 'process', 'camera', 'popular', 'speech', 'ten', 'owner', 'him', 'Congress', 'five', 'whose', 'practice', 'eat', 'discuss', 'throw', 'food', 'how', 'last', 'different', 'property', 'box', 'tend', 'pick', 'human', 'woman', 'name', 'church', 'same', 'quality', 'ask', 'say', 'military', 'be', 'sense', 'store', 'certain', 'site', 'fall', 'blue', 'film', 'happy', 'season', 'exist', 'himself', 'now', 'consumer', 'executive', 'get', 'four', 'friend', 'deal', 'apply', 'least', 'quite', 'green', 'popular', 'discussion', 'figure', 'paper', 'way', 'hear', 'quite', 'treatment', 'eat', 'yet', 'another', 'attention', 'likely', 'easy', 'fast', 'forward', 'program', 'create', 'mother', 'cost', 'together', 'land', 'any', 'seem', 'sure', 'about', 'them', 'nor', 'official', 'my', 'responsibility', 'moment', 'listen', 'expert', 'avoid', 'lawyer', 'lawyer', 'indeed', 'human', 'program', 'baby', 'instead', 'finish', 'figure', 'list', 'spend', 'economy', 'send', 'staff', 'what', 'send', 'start', 'impact', 'camera', 'plant', 'represent', 'and', 'million', 'dog', 'set', 'worker', 'might', 'reason', 'set', 'your', 'player', 'a', 'camera', 'go', 'majority', 'environment', 'ever', 'win', 'purpose', 'build', 'form', 'experience', 'guess', 'teach', 'TRUE', 'current', 'dinner', 'her', 'to', 'even', 'change', 'huge']\n"
          ]
        }
      ]
    },
    {
      "cell_type": "code",
      "source": [
        "# prompt: give me a complex  diagram of top products\n",
        "\n",
        "import plotly.graph_objects as go\n",
        "\n",
        "# Define data\n",
        "top_products = rd.nlargest(10, 'item value')\n",
        "product_names = top_products['Product Name'].tolist()\n",
        "item_values = top_products['item value'].tolist()\n",
        "\n",
        "# Create the figure\n",
        "fig = go.Figure(data=[go.Bar(x=product_names, y=item_values, marker_color='lightsalmon')])\n",
        "\n",
        "# Update layout\n",
        "fig.update_layout(title='Top Products by Item Value', xaxis_tickangle=45)\n",
        "\n",
        "# Create a complex diagram\n",
        "fig.update_layout(\n",
        "    title='Top Products by Item Value',\n",
        "    xaxis_tickangle=-45,\n",
        "    yaxis=dict(\n",
        "        title='Item Value',\n",
        "        tickfont=dict(size=14),\n",
        "        showgrid=True,\n",
        "        gridwidth=0.5,\n",
        "        gridcolor='gray'\n",
        "    ),\n",
        "    yaxis_showgrid=True,\n",
        "    yaxis_gridwidth=0.5,\n",
        "    yaxis_gridcolor='gray',\n",
        "    plot_bgcolor='white',\n",
        "    paper_bgcolor='white',\n",
        "    showlegend=False\n",
        ")\n",
        "\n",
        "# Add annotations\n",
        "for i, value in enumerate(item_values):\n",
        "    fig.add_annotation(x=i, y=value + 0.05, text=str(value), showarrow=False)\n",
        "\n",
        "# Display the figure\n",
        "fig.show()\n"
      ],
      "metadata": {
        "colab": {
          "base_uri": "https://localhost:8080/",
          "height": 542
        },
        "id": "Ip5PX_RL7udW",
        "outputId": "200701c3-9e86-4645-ec75-c1d5ce1c4467"
      },
      "execution_count": 39,
      "outputs": [
        {
          "output_type": "display_data",
          "data": {
            "text/html": [
              "<html>\n",
              "<head><meta charset=\"utf-8\" /></head>\n",
              "<body>\n",
              "    <div>            <script src=\"https://cdnjs.cloudflare.com/ajax/libs/mathjax/2.7.5/MathJax.js?config=TeX-AMS-MML_SVG\"></script><script type=\"text/javascript\">if (window.MathJax && window.MathJax.Hub && window.MathJax.Hub.Config) {window.MathJax.Hub.Config({SVG: {font: \"STIX-Web\"}});}</script>                <script type=\"text/javascript\">window.PlotlyConfig = {MathJaxConfig: 'local'};</script>\n",
              "        <script charset=\"utf-8\" src=\"https://cdn.plot.ly/plotly-2.24.1.min.js\"></script>                <div id=\"0f13a143-9677-46c2-a009-9af47e84f0db\" class=\"plotly-graph-div\" style=\"height:525px; width:100%;\"></div>            <script type=\"text/javascript\">                                    window.PLOTLYENV=window.PLOTLYENV || {};                                    if (document.getElementById(\"0f13a143-9677-46c2-a009-9af47e84f0db\")) {                    Plotly.newPlot(                        \"0f13a143-9677-46c2-a009-9af47e84f0db\",                        [{\"marker\":{\"color\":\"lightsalmon\"},\"x\":[\"commercial\",\"education\",\"behavior\",\"question\",\"important\",\"position\",\"director\",\"throw\",\"money\",\"what\"],\"y\":[0.8987542087542085,0.8907022607022601,0.8781529581529579,0.8753535353535351,0.8739297739297738,0.8716257816257814,0.8715921115921114,0.8701587301587297,0.8695767195767194,0.866209716209716],\"type\":\"bar\"}],                        {\"template\":{\"data\":{\"histogram2dcontour\":[{\"type\":\"histogram2dcontour\",\"colorbar\":{\"outlinewidth\":0,\"ticks\":\"\"},\"colorscale\":[[0.0,\"#0d0887\"],[0.1111111111111111,\"#46039f\"],[0.2222222222222222,\"#7201a8\"],[0.3333333333333333,\"#9c179e\"],[0.4444444444444444,\"#bd3786\"],[0.5555555555555556,\"#d8576b\"],[0.6666666666666666,\"#ed7953\"],[0.7777777777777778,\"#fb9f3a\"],[0.8888888888888888,\"#fdca26\"],[1.0,\"#f0f921\"]]}],\"choropleth\":[{\"type\":\"choropleth\",\"colorbar\":{\"outlinewidth\":0,\"ticks\":\"\"}}],\"histogram2d\":[{\"type\":\"histogram2d\",\"colorbar\":{\"outlinewidth\":0,\"ticks\":\"\"},\"colorscale\":[[0.0,\"#0d0887\"],[0.1111111111111111,\"#46039f\"],[0.2222222222222222,\"#7201a8\"],[0.3333333333333333,\"#9c179e\"],[0.4444444444444444,\"#bd3786\"],[0.5555555555555556,\"#d8576b\"],[0.6666666666666666,\"#ed7953\"],[0.7777777777777778,\"#fb9f3a\"],[0.8888888888888888,\"#fdca26\"],[1.0,\"#f0f921\"]]}],\"heatmap\":[{\"type\":\"heatmap\",\"colorbar\":{\"outlinewidth\":0,\"ticks\":\"\"},\"colorscale\":[[0.0,\"#0d0887\"],[0.1111111111111111,\"#46039f\"],[0.2222222222222222,\"#7201a8\"],[0.3333333333333333,\"#9c179e\"],[0.4444444444444444,\"#bd3786\"],[0.5555555555555556,\"#d8576b\"],[0.6666666666666666,\"#ed7953\"],[0.7777777777777778,\"#fb9f3a\"],[0.8888888888888888,\"#fdca26\"],[1.0,\"#f0f921\"]]}],\"heatmapgl\":[{\"type\":\"heatmapgl\",\"colorbar\":{\"outlinewidth\":0,\"ticks\":\"\"},\"colorscale\":[[0.0,\"#0d0887\"],[0.1111111111111111,\"#46039f\"],[0.2222222222222222,\"#7201a8\"],[0.3333333333333333,\"#9c179e\"],[0.4444444444444444,\"#bd3786\"],[0.5555555555555556,\"#d8576b\"],[0.6666666666666666,\"#ed7953\"],[0.7777777777777778,\"#fb9f3a\"],[0.8888888888888888,\"#fdca26\"],[1.0,\"#f0f921\"]]}],\"contourcarpet\":[{\"type\":\"contourcarpet\",\"colorbar\":{\"outlinewidth\":0,\"ticks\":\"\"}}],\"contour\":[{\"type\":\"contour\",\"colorbar\":{\"outlinewidth\":0,\"ticks\":\"\"},\"colorscale\":[[0.0,\"#0d0887\"],[0.1111111111111111,\"#46039f\"],[0.2222222222222222,\"#7201a8\"],[0.3333333333333333,\"#9c179e\"],[0.4444444444444444,\"#bd3786\"],[0.5555555555555556,\"#d8576b\"],[0.6666666666666666,\"#ed7953\"],[0.7777777777777778,\"#fb9f3a\"],[0.8888888888888888,\"#fdca26\"],[1.0,\"#f0f921\"]]}],\"surface\":[{\"type\":\"surface\",\"colorbar\":{\"outlinewidth\":0,\"ticks\":\"\"},\"colorscale\":[[0.0,\"#0d0887\"],[0.1111111111111111,\"#46039f\"],[0.2222222222222222,\"#7201a8\"],[0.3333333333333333,\"#9c179e\"],[0.4444444444444444,\"#bd3786\"],[0.5555555555555556,\"#d8576b\"],[0.6666666666666666,\"#ed7953\"],[0.7777777777777778,\"#fb9f3a\"],[0.8888888888888888,\"#fdca26\"],[1.0,\"#f0f921\"]]}],\"mesh3d\":[{\"type\":\"mesh3d\",\"colorbar\":{\"outlinewidth\":0,\"ticks\":\"\"}}],\"scatter\":[{\"fillpattern\":{\"fillmode\":\"overlay\",\"size\":10,\"solidity\":0.2},\"type\":\"scatter\"}],\"parcoords\":[{\"type\":\"parcoords\",\"line\":{\"colorbar\":{\"outlinewidth\":0,\"ticks\":\"\"}}}],\"scatterpolargl\":[{\"type\":\"scatterpolargl\",\"marker\":{\"colorbar\":{\"outlinewidth\":0,\"ticks\":\"\"}}}],\"bar\":[{\"error_x\":{\"color\":\"#2a3f5f\"},\"error_y\":{\"color\":\"#2a3f5f\"},\"marker\":{\"line\":{\"color\":\"#E5ECF6\",\"width\":0.5},\"pattern\":{\"fillmode\":\"overlay\",\"size\":10,\"solidity\":0.2}},\"type\":\"bar\"}],\"scattergeo\":[{\"type\":\"scattergeo\",\"marker\":{\"colorbar\":{\"outlinewidth\":0,\"ticks\":\"\"}}}],\"scatterpolar\":[{\"type\":\"scatterpolar\",\"marker\":{\"colorbar\":{\"outlinewidth\":0,\"ticks\":\"\"}}}],\"histogram\":[{\"marker\":{\"pattern\":{\"fillmode\":\"overlay\",\"size\":10,\"solidity\":0.2}},\"type\":\"histogram\"}],\"scattergl\":[{\"type\":\"scattergl\",\"marker\":{\"colorbar\":{\"outlinewidth\":0,\"ticks\":\"\"}}}],\"scatter3d\":[{\"type\":\"scatter3d\",\"line\":{\"colorbar\":{\"outlinewidth\":0,\"ticks\":\"\"}},\"marker\":{\"colorbar\":{\"outlinewidth\":0,\"ticks\":\"\"}}}],\"scattermapbox\":[{\"type\":\"scattermapbox\",\"marker\":{\"colorbar\":{\"outlinewidth\":0,\"ticks\":\"\"}}}],\"scatterternary\":[{\"type\":\"scatterternary\",\"marker\":{\"colorbar\":{\"outlinewidth\":0,\"ticks\":\"\"}}}],\"scattercarpet\":[{\"type\":\"scattercarpet\",\"marker\":{\"colorbar\":{\"outlinewidth\":0,\"ticks\":\"\"}}}],\"carpet\":[{\"aaxis\":{\"endlinecolor\":\"#2a3f5f\",\"gridcolor\":\"white\",\"linecolor\":\"white\",\"minorgridcolor\":\"white\",\"startlinecolor\":\"#2a3f5f\"},\"baxis\":{\"endlinecolor\":\"#2a3f5f\",\"gridcolor\":\"white\",\"linecolor\":\"white\",\"minorgridcolor\":\"white\",\"startlinecolor\":\"#2a3f5f\"},\"type\":\"carpet\"}],\"table\":[{\"cells\":{\"fill\":{\"color\":\"#EBF0F8\"},\"line\":{\"color\":\"white\"}},\"header\":{\"fill\":{\"color\":\"#C8D4E3\"},\"line\":{\"color\":\"white\"}},\"type\":\"table\"}],\"barpolar\":[{\"marker\":{\"line\":{\"color\":\"#E5ECF6\",\"width\":0.5},\"pattern\":{\"fillmode\":\"overlay\",\"size\":10,\"solidity\":0.2}},\"type\":\"barpolar\"}],\"pie\":[{\"automargin\":true,\"type\":\"pie\"}]},\"layout\":{\"autotypenumbers\":\"strict\",\"colorway\":[\"#636efa\",\"#EF553B\",\"#00cc96\",\"#ab63fa\",\"#FFA15A\",\"#19d3f3\",\"#FF6692\",\"#B6E880\",\"#FF97FF\",\"#FECB52\"],\"font\":{\"color\":\"#2a3f5f\"},\"hovermode\":\"closest\",\"hoverlabel\":{\"align\":\"left\"},\"paper_bgcolor\":\"white\",\"plot_bgcolor\":\"#E5ECF6\",\"polar\":{\"bgcolor\":\"#E5ECF6\",\"angularaxis\":{\"gridcolor\":\"white\",\"linecolor\":\"white\",\"ticks\":\"\"},\"radialaxis\":{\"gridcolor\":\"white\",\"linecolor\":\"white\",\"ticks\":\"\"}},\"ternary\":{\"bgcolor\":\"#E5ECF6\",\"aaxis\":{\"gridcolor\":\"white\",\"linecolor\":\"white\",\"ticks\":\"\"},\"baxis\":{\"gridcolor\":\"white\",\"linecolor\":\"white\",\"ticks\":\"\"},\"caxis\":{\"gridcolor\":\"white\",\"linecolor\":\"white\",\"ticks\":\"\"}},\"coloraxis\":{\"colorbar\":{\"outlinewidth\":0,\"ticks\":\"\"}},\"colorscale\":{\"sequential\":[[0.0,\"#0d0887\"],[0.1111111111111111,\"#46039f\"],[0.2222222222222222,\"#7201a8\"],[0.3333333333333333,\"#9c179e\"],[0.4444444444444444,\"#bd3786\"],[0.5555555555555556,\"#d8576b\"],[0.6666666666666666,\"#ed7953\"],[0.7777777777777778,\"#fb9f3a\"],[0.8888888888888888,\"#fdca26\"],[1.0,\"#f0f921\"]],\"sequentialminus\":[[0.0,\"#0d0887\"],[0.1111111111111111,\"#46039f\"],[0.2222222222222222,\"#7201a8\"],[0.3333333333333333,\"#9c179e\"],[0.4444444444444444,\"#bd3786\"],[0.5555555555555556,\"#d8576b\"],[0.6666666666666666,\"#ed7953\"],[0.7777777777777778,\"#fb9f3a\"],[0.8888888888888888,\"#fdca26\"],[1.0,\"#f0f921\"]],\"diverging\":[[0,\"#8e0152\"],[0.1,\"#c51b7d\"],[0.2,\"#de77ae\"],[0.3,\"#f1b6da\"],[0.4,\"#fde0ef\"],[0.5,\"#f7f7f7\"],[0.6,\"#e6f5d0\"],[0.7,\"#b8e186\"],[0.8,\"#7fbc41\"],[0.9,\"#4d9221\"],[1,\"#276419\"]]},\"xaxis\":{\"gridcolor\":\"white\",\"linecolor\":\"white\",\"ticks\":\"\",\"title\":{\"standoff\":15},\"zerolinecolor\":\"white\",\"automargin\":true,\"zerolinewidth\":2},\"yaxis\":{\"gridcolor\":\"white\",\"linecolor\":\"white\",\"ticks\":\"\",\"title\":{\"standoff\":15},\"zerolinecolor\":\"white\",\"automargin\":true,\"zerolinewidth\":2},\"scene\":{\"xaxis\":{\"backgroundcolor\":\"#E5ECF6\",\"gridcolor\":\"white\",\"linecolor\":\"white\",\"showbackground\":true,\"ticks\":\"\",\"zerolinecolor\":\"white\",\"gridwidth\":2},\"yaxis\":{\"backgroundcolor\":\"#E5ECF6\",\"gridcolor\":\"white\",\"linecolor\":\"white\",\"showbackground\":true,\"ticks\":\"\",\"zerolinecolor\":\"white\",\"gridwidth\":2},\"zaxis\":{\"backgroundcolor\":\"#E5ECF6\",\"gridcolor\":\"white\",\"linecolor\":\"white\",\"showbackground\":true,\"ticks\":\"\",\"zerolinecolor\":\"white\",\"gridwidth\":2}},\"shapedefaults\":{\"line\":{\"color\":\"#2a3f5f\"}},\"annotationdefaults\":{\"arrowcolor\":\"#2a3f5f\",\"arrowhead\":0,\"arrowwidth\":1},\"geo\":{\"bgcolor\":\"white\",\"landcolor\":\"#E5ECF6\",\"subunitcolor\":\"white\",\"showland\":true,\"showlakes\":true,\"lakecolor\":\"white\"},\"title\":{\"x\":0.05},\"mapbox\":{\"style\":\"light\"}}},\"xaxis\":{\"tickangle\":-45},\"title\":{\"text\":\"Top Products by Item Value\"},\"yaxis\":{\"tickfont\":{\"size\":14},\"title\":{\"text\":\"Item Value\"},\"showgrid\":true,\"gridwidth\":0.5,\"gridcolor\":\"gray\"},\"plot_bgcolor\":\"white\",\"paper_bgcolor\":\"white\",\"showlegend\":false,\"annotations\":[{\"showarrow\":false,\"text\":\"0.8987542087542085\",\"x\":0,\"y\":0.9487542087542086},{\"showarrow\":false,\"text\":\"0.8907022607022601\",\"x\":1,\"y\":0.9407022607022602},{\"showarrow\":false,\"text\":\"0.8781529581529579\",\"x\":2,\"y\":0.928152958152958},{\"showarrow\":false,\"text\":\"0.8753535353535351\",\"x\":3,\"y\":0.9253535353535352},{\"showarrow\":false,\"text\":\"0.8739297739297738\",\"x\":4,\"y\":0.9239297739297738},{\"showarrow\":false,\"text\":\"0.8716257816257814\",\"x\":5,\"y\":0.9216257816257815},{\"showarrow\":false,\"text\":\"0.8715921115921114\",\"x\":6,\"y\":0.9215921115921114},{\"showarrow\":false,\"text\":\"0.8701587301587297\",\"x\":7,\"y\":0.9201587301587297},{\"showarrow\":false,\"text\":\"0.8695767195767194\",\"x\":8,\"y\":0.9195767195767195},{\"showarrow\":false,\"text\":\"0.866209716209716\",\"x\":9,\"y\":0.916209716209716}]},                        {\"responsive\": true}                    ).then(function(){\n",
              "                            \n",
              "var gd = document.getElementById('0f13a143-9677-46c2-a009-9af47e84f0db');\n",
              "var x = new MutationObserver(function (mutations, observer) {{\n",
              "        var display = window.getComputedStyle(gd).display;\n",
              "        if (!display || display === 'none') {{\n",
              "            console.log([gd, 'removed!']);\n",
              "            Plotly.purge(gd);\n",
              "            observer.disconnect();\n",
              "        }}\n",
              "}});\n",
              "\n",
              "// Listen for the removal of the full notebook cells\n",
              "var notebookContainer = gd.closest('#notebook-container');\n",
              "if (notebookContainer) {{\n",
              "    x.observe(notebookContainer, {childList: true});\n",
              "}}\n",
              "\n",
              "// Listen for the clearing of the current output cell\n",
              "var outputEl = gd.closest('.output');\n",
              "if (outputEl) {{\n",
              "    x.observe(outputEl, {childList: true});\n",
              "}}\n",
              "\n",
              "                        })                };                            </script>        </div>\n",
              "</body>\n",
              "</html>"
            ]
          },
          "metadata": {}
        }
      ]
    },
    {
      "cell_type": "code",
      "source": [
        "# prompt: get all the top rated products name and important features and represent  it visyually\n",
        "import seaborn as sns\n",
        "# Get the top N products with the highest 'item value'\n",
        "top_n = 10\n",
        "top_products = rd.nlargest(top_n, 'item value')\n",
        "\n",
        "# Select important features\n",
        "important_features = ['Product Name', 'Rating', 'Aspect Sentiment', 'Response', 'item value', 'Product Category']\n",
        "\n",
        "# Filter the top products to include only the important features\n",
        "top_products_filtered = top_products[important_features]\n",
        "\n",
        "# Create a bar chart to visualize the top products and their important features\n",
        "plt.figure(figsize=(12, 6))\n",
        "sns.barplot(x='item value', y='Product Name', hue='Product Category', data=top_products_filtered)\n",
        "\n",
        "# Add labels and title\n",
        "plt.xlabel('Item Value')\n",
        "plt.ylabel('Product Name')\n",
        "plt.title('Top Products with Important Features')\n",
        "\n",
        "# Rotate x-axis labels for better readability\n",
        "plt.xticks(rotation=45)\n",
        "\n",
        "# Show the diagram\n",
        "plt.show()\n"
      ],
      "metadata": {
        "colab": {
          "base_uri": "https://localhost:8080/",
          "height": 476
        },
        "id": "qFsG9Iti4zy6",
        "outputId": "25bd4c99-3fc9-491a-cdea-31dd3ad6719a"
      },
      "execution_count": 38,
      "outputs": [
        {
          "output_type": "display_data",
          "data": {
            "text/plain": [
              "<Figure size 1200x600 with 1 Axes>"
            ],
            "image/png": "[encoded data removed]"
          },
          "metadata": {}
        }
      ]
    }
  ]
}